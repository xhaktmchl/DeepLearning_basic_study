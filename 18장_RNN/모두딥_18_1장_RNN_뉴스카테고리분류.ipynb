{
  "nbformat": 4,
  "nbformat_minor": 0,
  "metadata": {
    "colab": {
      "name": "모두딥 18.1장 RNN 뉴스카테고리분류.ipynb",
      "provenance": [],
      "collapsed_sections": []
    },
    "kernelspec": {
      "name": "python3",
      "display_name": "Python 3"
    }
  },
  "cells": [
    {
      "cell_type": "markdown",
      "metadata": {
        "id": "OiUsxHwaoPIR"
      },
      "source": [
        "# LSTM을 이용한 로이터 뉴스 카테고리 분류하기"
      ]
    },
    {
      "cell_type": "code",
      "metadata": {
        "id": "quU3ZxJYnWna"
      },
      "source": [
        "import numpy as np\r\n",
        "import tensorflow as tf\r\n",
        "import matplotlib.pyplot as plt\r\n"
      ],
      "execution_count": 1,
      "outputs": []
    },
    {
      "cell_type": "code",
      "metadata": {
        "id": "Y0LVdT7nn-rO"
      },
      "source": [
        "# seed 설정\r\n",
        "seed = 0\r\n",
        "np.random.seed(seed)\r\n",
        "tf.random.set_seed(3)"
      ],
      "execution_count": 2,
      "outputs": []
    },
    {
      "cell_type": "markdown",
      "metadata": {
        "id": "RlpMg7dZobeN"
      },
      "source": [
        "#### 로이터 뉴스 데이터 불러오기"
      ]
    },
    {
      "cell_type": "code",
      "metadata": {
        "id": "IiXb79BOoMBW"
      },
      "source": [
        "from keras.datasets import reuters\r\n"
      ],
      "execution_count": 3,
      "outputs": []
    },
    {
      "cell_type": "markdown",
      "metadata": {
        "id": "_BjPjmijoi7p"
      },
      "source": [
        "#### train ,test 셋 나누기"
      ]
    },
    {
      "cell_type": "code",
      "metadata": {
        "colab": {
          "base_uri": "https://localhost:8080/"
        },
        "id": "EvldPcPGogT9",
        "outputId": "cf4623f3-79ed-4998-95ec-c26018d170de"
      },
      "source": [
        "(X_train,y_train),(X_test,y_test) = reuters.load_data(num_words=1000,test_split=0.2) # 빈도수가 1~1000 등인 단어 불러오기"
      ],
      "execution_count": 4,
      "outputs": [
        {
          "output_type": "stream",
          "text": [
            "Downloading data from https://storage.googleapis.com/tensorflow/tf-keras-datasets/reuters.npz\n",
            "2113536/2110848 [==============================] - 0s 0us/step\n"
          ],
          "name": "stdout"
        },
        {
          "output_type": "stream",
          "text": [
            "/usr/local/lib/python3.6/dist-packages/tensorflow/python/keras/datasets/reuters.py:148: VisibleDeprecationWarning: Creating an ndarray from ragged nested sequences (which is a list-or-tuple of lists-or-tuples-or ndarrays with different lengths or shapes) is deprecated. If you meant to do this, you must specify 'dtype=object' when creating the ndarray\n",
            "  x_train, y_train = np.array(xs[:idx]), np.array(labels[:idx])\n",
            "/usr/local/lib/python3.6/dist-packages/tensorflow/python/keras/datasets/reuters.py:149: VisibleDeprecationWarning: Creating an ndarray from ragged nested sequences (which is a list-or-tuple of lists-or-tuples-or ndarrays with different lengths or shapes) is deprecated. If you meant to do this, you must specify 'dtype=object' when creating the ndarray\n",
            "  x_test, y_test = np.array(xs[idx:]), np.array(labels[idx:])\n"
          ],
          "name": "stderr"
        }
      ]
    },
    {
      "cell_type": "markdown",
      "metadata": {
        "id": "FLY6EqL9rYIw"
      },
      "source": [
        "#### 데이터 확인 후 출력"
      ]
    },
    {
      "cell_type": "code",
      "metadata": {
        "colab": {
          "base_uri": "https://localhost:8080/"
        },
        "id": "-mFNNp2cqQrE",
        "outputId": "ed8bd388-01b2-498d-dab6-e4dc5827dc24"
      },
      "source": [
        "category = np.max(y_train)+1\r\n",
        "print(category,'카텐고리')\r\n",
        "print(len(X_train))\r\n",
        "print(len(X_test))\r\n",
        "print(X_test[0])"
      ],
      "execution_count": 5,
      "outputs": [
        {
          "output_type": "stream",
          "text": [
            "46 카텐고리\n",
            "8982\n",
            "2246\n",
            "[1, 4, 2, 2, 9, 697, 2, 111, 8, 25, 109, 29, 2, 11, 150, 244, 364, 33, 30, 30, 2, 333, 6, 2, 159, 9, 2, 363, 13, 2, 71, 9, 2, 71, 117, 4, 225, 78, 206, 10, 9, 2, 8, 4, 270, 5, 2, 7, 748, 48, 9, 2, 7, 207, 2, 966, 2, 793, 97, 133, 336, 7, 4, 493, 98, 273, 104, 284, 25, 39, 338, 22, 905, 220, 2, 644, 59, 20, 6, 119, 61, 11, 15, 58, 579, 26, 10, 67, 7, 4, 738, 98, 43, 88, 333, 722, 12, 20, 6, 19, 746, 35, 15, 10, 9, 2, 855, 129, 783, 21, 4, 2, 244, 364, 51, 16, 299, 452, 16, 515, 4, 99, 29, 5, 4, 364, 281, 48, 10, 9, 2, 23, 644, 47, 20, 324, 27, 56, 2, 2, 5, 192, 510, 17, 12]\n"
          ],
          "name": "stdout"
        }
      ]
    },
    {
      "cell_type": "markdown",
      "metadata": {
        "id": "j5_FIWk7rtO6"
      },
      "source": [
        "- 46개의 카테고리\r\n",
        "- 이미 인코딩은 되어있음"
      ]
    },
    {
      "cell_type": "markdown",
      "metadata": {
        "id": "uho7vTaXr-49"
      },
      "source": [
        "#### 각 단어의 길이 일정하게 맞춰주기"
      ]
    },
    {
      "cell_type": "code",
      "metadata": {
        "id": "99yHwNqersPO"
      },
      "source": [
        "from keras.preprocessing import sequence"
      ],
      "execution_count": 6,
      "outputs": []
    },
    {
      "cell_type": "markdown",
      "metadata": {
        "id": "9hFVg8wIub3P"
      },
      "source": [
        "- 100까지 맞추고  빈칸은 0 으로 채움"
      ]
    },
    {
      "cell_type": "code",
      "metadata": {
        "id": "_K8I0psusXEW"
      },
      "source": [
        "x_train = sequence.pad_sequences(X_train,maxlen=100)\r\n",
        "x_test = sequence.pad_sequences(X_test,maxlen=100)# 단어의 수를 100 까지\r\n"
      ],
      "execution_count": 7,
      "outputs": []
    },
    {
      "cell_type": "code",
      "metadata": {
        "colab": {
          "base_uri": "https://localhost:8080/"
        },
        "id": "pGjwExxAsuqC",
        "outputId": "5d554c9c-f967-4c41-889d-cd256823ddbd"
      },
      "source": [
        "print(x_train)"
      ],
      "execution_count": 8,
      "outputs": [
        {
          "output_type": "stream",
          "text": [
            "[[  0   0   0 ...  15  17  12]\n",
            " [  0   0   0 ... 505  17  12]\n",
            " [ 19 758  15 ...  11  17  12]\n",
            " ...\n",
            " [  0   0   0 ... 407  17  12]\n",
            " [ 88   2  72 ... 364  17  12]\n",
            " [125   2  21 ... 113  17  12]]\n"
          ],
          "name": "stdout"
        }
      ]
    },
    {
      "cell_type": "markdown",
      "metadata": {
        "id": "XOVitluzuAT-"
      },
      "source": [
        "#### y데이터 원핫 인코딩"
      ]
    },
    {
      "cell_type": "code",
      "metadata": {
        "id": "Ba6EsdxGsx5-"
      },
      "source": [
        "from keras.utils import np_utils\r\n",
        "y_train = np_utils.to_categorical(y_train)\r\n",
        "y_test = np_utils.to_categorical(y_test)"
      ],
      "execution_count": 9,
      "outputs": []
    },
    {
      "cell_type": "markdown",
      "metadata": {
        "id": "Qw2y9eOmvnzP"
      },
      "source": [
        "#### 모델 설계 및 실행"
      ]
    },
    {
      "cell_type": "code",
      "metadata": {
        "id": "GsmqJw-lu3U0"
      },
      "source": [
        "from keras.models import Sequential\r\n",
        "from keras.layers import Dense,LSTM,Embedding"
      ],
      "execution_count": 10,
      "outputs": []
    },
    {
      "cell_type": "code",
      "metadata": {
        "id": "OyK37c-8vvzQ"
      },
      "source": [
        "model = Sequential()\r\n",
        "model.add(Embedding(1000,100))\r\n",
        "model.add(LSTM(100,activation='tanh'))\r\n",
        "model.add(Dense(46,activation='softmax'))"
      ],
      "execution_count": 11,
      "outputs": []
    },
    {
      "cell_type": "code",
      "metadata": {
        "colab": {
          "base_uri": "https://localhost:8080/"
        },
        "id": "W--e7U3Wwh8p",
        "outputId": "63a83295-e353-4947-de78-a1ea4daabadb"
      },
      "source": [
        "model.compile(optimizer='adam',loss='categorical_crossentropy',metrics=['accuracy'])\r\n",
        "\r\n",
        "hist = model.fit(x_train,y_train,batch_size=100,epochs=10,validation_data= (x_test,y_test))\r\n",
        "\r\n"
      ],
      "execution_count": 14,
      "outputs": [
        {
          "output_type": "stream",
          "text": [
            "Epoch 1/10\n",
            "90/90 [==============================] - 3s 18ms/step - loss: 1.1868 - accuracy: 0.7014 - val_loss: 1.3557 - val_accuracy: 0.6536\n",
            "Epoch 2/10\n",
            "90/90 [==============================] - 1s 12ms/step - loss: 1.0933 - accuracy: 0.7216 - val_loss: 1.2490 - val_accuracy: 0.6866\n",
            "Epoch 3/10\n",
            "90/90 [==============================] - 1s 13ms/step - loss: 1.0208 - accuracy: 0.7363 - val_loss: 1.2766 - val_accuracy: 0.6861\n",
            "Epoch 4/10\n",
            "90/90 [==============================] - 1s 13ms/step - loss: 0.9786 - accuracy: 0.7526 - val_loss: 1.2109 - val_accuracy: 0.6990\n",
            "Epoch 5/10\n",
            "90/90 [==============================] - 1s 13ms/step - loss: 0.9879 - accuracy: 0.7504 - val_loss: 1.1994 - val_accuracy: 0.7012\n",
            "Epoch 6/10\n",
            "90/90 [==============================] - 1s 13ms/step - loss: 0.9224 - accuracy: 0.7660 - val_loss: 1.2013 - val_accuracy: 0.7012\n",
            "Epoch 7/10\n",
            "90/90 [==============================] - 1s 13ms/step - loss: 0.9165 - accuracy: 0.7719 - val_loss: 1.1934 - val_accuracy: 0.6968\n",
            "Epoch 8/10\n",
            "90/90 [==============================] - 1s 13ms/step - loss: 0.8143 - accuracy: 0.7970 - val_loss: 1.1923 - val_accuracy: 0.7021\n",
            "Epoch 9/10\n",
            "90/90 [==============================] - 1s 13ms/step - loss: 0.8011 - accuracy: 0.7968 - val_loss: 1.1590 - val_accuracy: 0.7115\n",
            "Epoch 10/10\n",
            "90/90 [==============================] - 1s 12ms/step - loss: 0.7748 - accuracy: 0.8068 - val_loss: 1.2117 - val_accuracy: 0.7115\n"
          ],
          "name": "stdout"
        }
      ]
    },
    {
      "cell_type": "markdown",
      "metadata": {
        "id": "8BYBMWObx0FX"
      },
      "source": [
        "#### 모델 평가"
      ]
    },
    {
      "cell_type": "code",
      "metadata": {
        "colab": {
          "base_uri": "https://localhost:8080/"
        },
        "id": "URnUckZDxR3Q",
        "outputId": "af168c14-5651-409b-f30c-57312996d842"
      },
      "source": [
        "model.evaluate(x_test,y_test)"
      ],
      "execution_count": 13,
      "outputs": [
        {
          "output_type": "stream",
          "text": [
            "71/71 [==============================] - 0s 5ms/step - loss: 1.3559 - accuracy: 0.6558\n"
          ],
          "name": "stdout"
        },
        {
          "output_type": "execute_result",
          "data": {
            "text/plain": [
              "[1.3559370040893555, 0.6558325886726379]"
            ]
          },
          "metadata": {
            "tags": []
          },
          "execution_count": 13
        }
      ]
    },
    {
      "cell_type": "markdown",
      "metadata": {
        "id": "u22j8ZsOyDOW"
      },
      "source": [
        "## 모델 정확도 시각화"
      ]
    },
    {
      "cell_type": "code",
      "metadata": {
        "colab": {
          "base_uri": "https://localhost:8080/",
          "height": 387
        },
        "id": "6KVpkx0Lxxu8",
        "outputId": "ff2f4177-5593-4d1d-ee75-d0460e0582fd"
      },
      "source": [
        "y_loss = hist.history['loss']\r\n",
        "y_valloss = hist.history['val_loss']\r\n",
        "\r\n",
        "print(y_loss)\r\n",
        "print(y_valloss)\r\n",
        "\r\n",
        "x_len = np.arange(len(y_loss))\r\n",
        "print(type(x_len))\r\n",
        "print(x_len.shape)\r\n",
        "# print(y_loss.shape)\r\n",
        "\r\n",
        "plt.plot(x_len,y_loss,c=\"blue\")\r\n",
        "plt.plot(x_len,y_valloss,c=\"red\")\r\n",
        "plt.xlabel('epoch')\r\n",
        "plt.ylabel('loss')\r\n",
        "plt.legend(loc='upper right')\r\n",
        "plt.show()\r\n"
      ],
      "execution_count": 22,
      "outputs": [
        {
          "output_type": "stream",
          "text": [
            "No handles with labels found to put in legend.\n"
          ],
          "name": "stderr"
        },
        {
          "output_type": "stream",
          "text": [
            "[1.1597174406051636, 1.0937196016311646, 1.0466234683990479, 1.000143051147461, 0.9474250078201294, 0.9150516986846924, 0.8822917342185974, 0.8360366225242615, 0.8062569499015808, 0.7723526954650879]\n",
            "[1.3557202816009521, 1.249014139175415, 1.2765952348709106, 1.2108900547027588, 1.1993720531463623, 1.2013394832611084, 1.1933729648590088, 1.1923474073410034, 1.1589912176132202, 1.2117085456848145]\n",
            "<class 'numpy.ndarray'>\n",
            "(10,)\n"
          ],
          "name": "stdout"
        },
        {
          "output_type": "display_data",
          "data": {
            "image/png": "[encoded data removed]",
            "text/plain": [
              "<Figure size 432x288 with 1 Axes>"
            ]
          },
          "metadata": {
            "tags": [],
            "needs_background": "light"
          }
        }
      ]
    },
    {
      "cell_type": "markdown",
      "metadata": {
        "id": "GN1ENAfy0UuT"
      },
      "source": [
        "- 7번째 부터 val_loss 가 증가하므로 그 이후에 오버피팅으로 보임"
      ]
    },
    {
      "cell_type": "code",
      "metadata": {
        "id": "-PN4aKhKygH-"
      },
      "source": [
        "\r\n",
        "\r\n"
      ],
      "execution_count": 16,
      "outputs": []
    },
    {
      "cell_type": "code",
      "metadata": {
        "id": "TlikHSHoytuw"
      },
      "source": [
        ""
      ],
      "execution_count": null,
      "outputs": []
    }
  ]
}