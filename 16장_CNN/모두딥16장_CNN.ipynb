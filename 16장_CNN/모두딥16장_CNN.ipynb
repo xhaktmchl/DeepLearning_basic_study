{
  "nbformat": 4,
  "nbformat_minor": 0,
  "metadata": {
    "colab": {
      "name": "모두딥16장 CNN.ipynb",
      "provenance": [],
      "collapsed_sections": []
    },
    "kernelspec": {
      "name": "python3",
      "display_name": "Python 3"
    }
  },
  "cells": [
    {
      "cell_type": "markdown",
      "metadata": {
        "id": "YUnJkK-FvORs"
      },
      "source": [
        "# MNIST 손글씨 인식하기"
      ]
    },
    {
      "cell_type": "markdown",
      "metadata": {
        "id": "9fmZHq_IqqPi"
      },
      "source": [
        "## 데이터 전처리"
      ]
    },
    {
      "cell_type": "code",
      "metadata": {
        "id": "VV4yUNH2nQb1"
      },
      "source": [
        "from keras.datasets import mnist\r\n",
        "from keras.utils import np_utils\r\n",
        "from keras.models import Sequential\r\n",
        "from keras.layers import Dense\r\n",
        "from keras.callbacks import ModelCheckpoint,EarlyStopping \r\n",
        "\r\n",
        "\r\n",
        "import pandas as pd\r\n",
        "import numpy as np\r\n",
        "import tensorflow as tf\r\n",
        "import matplotlib.pyplot as plt\r\n",
        "\r\n",
        "\r\n",
        "import os"
      ],
      "execution_count": null,
      "outputs": []
    },
    {
      "cell_type": "markdown",
      "metadata": {
        "id": "aDGAsIUTpaDm"
      },
      "source": [
        "* .shape[0] 데이터의 개수"
      ]
    },
    {
      "cell_type": "code",
      "metadata": {
        "colab": {
          "base_uri": "https://localhost:8080/"
        },
        "id": "vgIW2VnIohen",
        "outputId": "18a33846-4354-449d-9e50-2d858cec53bc"
      },
      "source": [
        "(x_train,y_class_train),(x_test,y_class_test) = mnist.load_data()\r\n",
        "\r\n",
        "print(x_train.shape[0])\r\n",
        "print(x_test.shape[0])\r\n",
        "x_train"
      ],
      "execution_count": null,
      "outputs": [
        {
          "output_type": "stream",
          "text": [
            "Downloading data from https://storage.googleapis.com/tensorflow/tf-keras-datasets/mnist.npz\n",
            "11493376/11490434 [==============================] - 0s 0us/step\n",
            "60000\n",
            "10000\n"
          ],
          "name": "stdout"
        },
        {
          "output_type": "execute_result",
          "data": {
            "text/plain": [
              "array([[[0, 0, 0, ..., 0, 0, 0],\n",
              "        [0, 0, 0, ..., 0, 0, 0],\n",
              "        [0, 0, 0, ..., 0, 0, 0],\n",
              "        ...,\n",
              "        [0, 0, 0, ..., 0, 0, 0],\n",
              "        [0, 0, 0, ..., 0, 0, 0],\n",
              "        [0, 0, 0, ..., 0, 0, 0]],\n",
              "\n",
              "       [[0, 0, 0, ..., 0, 0, 0],\n",
              "        [0, 0, 0, ..., 0, 0, 0],\n",
              "        [0, 0, 0, ..., 0, 0, 0],\n",
              "        ...,\n",
              "        [0, 0, 0, ..., 0, 0, 0],\n",
              "        [0, 0, 0, ..., 0, 0, 0],\n",
              "        [0, 0, 0, ..., 0, 0, 0]],\n",
              "\n",
              "       [[0, 0, 0, ..., 0, 0, 0],\n",
              "        [0, 0, 0, ..., 0, 0, 0],\n",
              "        [0, 0, 0, ..., 0, 0, 0],\n",
              "        ...,\n",
              "        [0, 0, 0, ..., 0, 0, 0],\n",
              "        [0, 0, 0, ..., 0, 0, 0],\n",
              "        [0, 0, 0, ..., 0, 0, 0]],\n",
              "\n",
              "       ...,\n",
              "\n",
              "       [[0, 0, 0, ..., 0, 0, 0],\n",
              "        [0, 0, 0, ..., 0, 0, 0],\n",
              "        [0, 0, 0, ..., 0, 0, 0],\n",
              "        ...,\n",
              "        [0, 0, 0, ..., 0, 0, 0],\n",
              "        [0, 0, 0, ..., 0, 0, 0],\n",
              "        [0, 0, 0, ..., 0, 0, 0]],\n",
              "\n",
              "       [[0, 0, 0, ..., 0, 0, 0],\n",
              "        [0, 0, 0, ..., 0, 0, 0],\n",
              "        [0, 0, 0, ..., 0, 0, 0],\n",
              "        ...,\n",
              "        [0, 0, 0, ..., 0, 0, 0],\n",
              "        [0, 0, 0, ..., 0, 0, 0],\n",
              "        [0, 0, 0, ..., 0, 0, 0]],\n",
              "\n",
              "       [[0, 0, 0, ..., 0, 0, 0],\n",
              "        [0, 0, 0, ..., 0, 0, 0],\n",
              "        [0, 0, 0, ..., 0, 0, 0],\n",
              "        ...,\n",
              "        [0, 0, 0, ..., 0, 0, 0],\n",
              "        [0, 0, 0, ..., 0, 0, 0],\n",
              "        [0, 0, 0, ..., 0, 0, 0]]], dtype=uint8)"
            ]
          },
          "metadata": {
            "tags": []
          },
          "execution_count": 3
        }
      ]
    },
    {
      "cell_type": "markdown",
      "metadata": {
        "id": "ia2dNh4SqwhF"
      },
      "source": [
        "####하나의 이미지 데이터 시각화"
      ]
    },
    {
      "cell_type": "code",
      "metadata": {
        "colab": {
          "base_uri": "https://localhost:8080/",
          "height": 265
        },
        "id": "Dez7qKAUpTmy",
        "outputId": "5e584545-94cf-47e5-bf64-777c6106482c"
      },
      "source": [
        "import matplotlib.pyplot as plt\r\n",
        "#plt.imshow(x_train[0],cmap='Greys')\r\n",
        "plt.imshow(x_train[0],cmap='gray')\r\n",
        "plt.show()"
      ],
      "execution_count": null,
      "outputs": [
        {
          "output_type": "display_data",
          "data": {
            "image/png": "[encoded data removed]",
            "text/plain": [
              "<Figure size 432x288 with 1 Axes>"
            ]
          },
          "metadata": {
            "tags": [],
            "needs_background": "light"
          }
        }
      ]
    },
    {
      "cell_type": "markdown",
      "metadata": {
        "id": "RhcgIbpYris3"
      },
      "source": [
        "그림의 각 좌표의 색체 강도를 숫자료 표시"
      ]
    },
    {
      "cell_type": "code",
      "metadata": {
        "colab": {
          "base_uri": "https://localhost:8080/"
        },
        "id": "BenKtqHjp9mf",
        "outputId": "2460e173-40f1-4fdb-d41d-616f61d73302"
      },
      "source": [
        "import sys\r\n",
        "for x in x_train[0]:\r\n",
        "  for i in x:\r\n",
        "    sys.stdout.write('%d\\t' % i)\r\n",
        "  sys.stdout.write('\\n')"
      ],
      "execution_count": null,
      "outputs": [
        {
          "output_type": "stream",
          "text": [
            "0\t0\t0\t0\t0\t0\t0\t0\t0\t0\t0\t0\t0\t0\t0\t0\t0\t0\t0\t0\t0\t0\t0\t0\t0\t0\t0\t0\t\n",
            "0\t0\t0\t0\t0\t0\t0\t0\t0\t0\t0\t0\t0\t0\t0\t0\t0\t0\t0\t0\t0\t0\t0\t0\t0\t0\t0\t0\t\n",
            "0\t0\t0\t0\t0\t0\t0\t0\t0\t0\t0\t0\t0\t0\t0\t0\t0\t0\t0\t0\t0\t0\t0\t0\t0\t0\t0\t0\t\n",
            "0\t0\t0\t0\t0\t0\t0\t0\t0\t0\t0\t0\t0\t0\t0\t0\t0\t0\t0\t0\t0\t0\t0\t0\t0\t0\t0\t0\t\n",
            "0\t0\t0\t0\t0\t0\t0\t0\t0\t0\t0\t0\t0\t0\t0\t0\t0\t0\t0\t0\t0\t0\t0\t0\t0\t0\t0\t0\t\n",
            "0\t0\t0\t0\t0\t0\t0\t0\t0\t0\t0\t0\t3\t18\t18\t18\t126\t136\t175\t26\t166\t255\t247\t127\t0\t0\t0\t0\t\n",
            "0\t0\t0\t0\t0\t0\t0\t0\t30\t36\t94\t154\t170\t253\t253\t253\t253\t253\t225\t172\t253\t242\t195\t64\t0\t0\t0\t0\t\n",
            "0\t0\t0\t0\t0\t0\t0\t49\t238\t253\t253\t253\t253\t253\t253\t253\t253\t251\t93\t82\t82\t56\t39\t0\t0\t0\t0\t0\t\n",
            "0\t0\t0\t0\t0\t0\t0\t18\t219\t253\t253\t253\t253\t253\t198\t182\t247\t241\t0\t0\t0\t0\t0\t0\t0\t0\t0\t0\t\n",
            "0\t0\t0\t0\t0\t0\t0\t0\t80\t156\t107\t253\t253\t205\t11\t0\t43\t154\t0\t0\t0\t0\t0\t0\t0\t0\t0\t0\t\n",
            "0\t0\t0\t0\t0\t0\t0\t0\t0\t14\t1\t154\t253\t90\t0\t0\t0\t0\t0\t0\t0\t0\t0\t0\t0\t0\t0\t0\t\n",
            "0\t0\t0\t0\t0\t0\t0\t0\t0\t0\t0\t139\t253\t190\t2\t0\t0\t0\t0\t0\t0\t0\t0\t0\t0\t0\t0\t0\t\n",
            "0\t0\t0\t0\t0\t0\t0\t0\t0\t0\t0\t11\t190\t253\t70\t0\t0\t0\t0\t0\t0\t0\t0\t0\t0\t0\t0\t0\t\n",
            "0\t0\t0\t0\t0\t0\t0\t0\t0\t0\t0\t0\t35\t241\t225\t160\t108\t1\t0\t0\t0\t0\t0\t0\t0\t0\t0\t0\t\n",
            "0\t0\t0\t0\t0\t0\t0\t0\t0\t0\t0\t0\t0\t81\t240\t253\t253\t119\t25\t0\t0\t0\t0\t0\t0\t0\t0\t0\t\n",
            "0\t0\t0\t0\t0\t0\t0\t0\t0\t0\t0\t0\t0\t0\t45\t186\t253\t253\t150\t27\t0\t0\t0\t0\t0\t0\t0\t0\t\n",
            "0\t0\t0\t0\t0\t0\t0\t0\t0\t0\t0\t0\t0\t0\t0\t16\t93\t252\t253\t187\t0\t0\t0\t0\t0\t0\t0\t0\t\n",
            "0\t0\t0\t0\t0\t0\t0\t0\t0\t0\t0\t0\t0\t0\t0\t0\t0\t249\t253\t249\t64\t0\t0\t0\t0\t0\t0\t0\t\n",
            "0\t0\t0\t0\t0\t0\t0\t0\t0\t0\t0\t0\t0\t0\t46\t130\t183\t253\t253\t207\t2\t0\t0\t0\t0\t0\t0\t0\t\n",
            "0\t0\t0\t0\t0\t0\t0\t0\t0\t0\t0\t0\t39\t148\t229\t253\t253\t253\t250\t182\t0\t0\t0\t0\t0\t0\t0\t0\t\n",
            "0\t0\t0\t0\t0\t0\t0\t0\t0\t0\t24\t114\t221\t253\t253\t253\t253\t201\t78\t0\t0\t0\t0\t0\t0\t0\t0\t0\t\n",
            "0\t0\t0\t0\t0\t0\t0\t0\t23\t66\t213\t253\t253\t253\t253\t198\t81\t2\t0\t0\t0\t0\t0\t0\t0\t0\t0\t0\t\n",
            "0\t0\t0\t0\t0\t0\t18\t171\t219\t253\t253\t253\t253\t195\t80\t9\t0\t0\t0\t0\t0\t0\t0\t0\t0\t0\t0\t0\t\n",
            "0\t0\t0\t0\t55\t172\t226\t253\t253\t253\t253\t244\t133\t11\t0\t0\t0\t0\t0\t0\t0\t0\t0\t0\t0\t0\t0\t0\t\n",
            "0\t0\t0\t0\t136\t253\t253\t253\t212\t135\t132\t16\t0\t0\t0\t0\t0\t0\t0\t0\t0\t0\t0\t0\t0\t0\t0\t0\t\n",
            "0\t0\t0\t0\t0\t0\t0\t0\t0\t0\t0\t0\t0\t0\t0\t0\t0\t0\t0\t0\t0\t0\t0\t0\t0\t0\t0\t0\t\n",
            "0\t0\t0\t0\t0\t0\t0\t0\t0\t0\t0\t0\t0\t0\t0\t0\t0\t0\t0\t0\t0\t0\t0\t0\t0\t0\t0\t0\t\n",
            "0\t0\t0\t0\t0\t0\t0\t0\t0\t0\t0\t0\t0\t0\t0\t0\t0\t0\t0\t0\t0\t0\t0\t0\t0\t0\t0\t0\t\n"
          ],
          "name": "stdout"
        }
      ]
    },
    {
      "cell_type": "markdown",
      "metadata": {
        "id": "ro9wKb6DsBYl"
      },
      "source": [
        "#### 2차원 배열을 1차원 배열로"
      ]
    },
    {
      "cell_type": "markdown",
      "metadata": {
        "id": "vCKAakItsVA6"
      },
      "source": [
        "가로28 세로28 의 2차원 배열을 784개의 1차원 배열로"
      ]
    },
    {
      "cell_type": "code",
      "metadata": {
        "colab": {
          "base_uri": "https://localhost:8080/"
        },
        "id": "gGlI4NcKrVso",
        "outputId": "1bf7367f-c2c4-4b39-ffda-33a6536eb66e"
      },
      "source": [
        "x_train = x_train.reshape(x_train.shape[0],784)\r\n",
        "x_train.shape[0]"
      ],
      "execution_count": null,
      "outputs": [
        {
          "output_type": "execute_result",
          "data": {
            "text/plain": [
              "60000"
            ]
          },
          "metadata": {
            "tags": []
          },
          "execution_count": 6
        }
      ]
    },
    {
      "cell_type": "markdown",
      "metadata": {
        "id": "nV2eylwntgFx"
      },
      "source": [
        "#### 정규화"
      ]
    },
    {
      "cell_type": "markdown",
      "metadata": {
        "id": "DXLzCO8ptzwS"
      },
      "source": [
        "색상의 밝기가 0부터 255 이므로 255로 나누면 된다"
      ]
    },
    {
      "cell_type": "code",
      "metadata": {
        "colab": {
          "base_uri": "https://localhost:8080/"
        },
        "id": "0b0gxMc6sfWG",
        "outputId": "105efdb7-9ffb-4905-d937-5b12b83f6142"
      },
      "source": [
        "x_train = x_train.astype('float64')\r\n",
        "x_train /= 255 \r\n",
        "x_train"
      ],
      "execution_count": null,
      "outputs": [
        {
          "output_type": "execute_result",
          "data": {
            "text/plain": [
              "array([[0., 0., 0., ..., 0., 0., 0.],\n",
              "       [0., 0., 0., ..., 0., 0., 0.],\n",
              "       [0., 0., 0., ..., 0., 0., 0.],\n",
              "       ...,\n",
              "       [0., 0., 0., ..., 0., 0., 0.],\n",
              "       [0., 0., 0., ..., 0., 0., 0.],\n",
              "       [0., 0., 0., ..., 0., 0., 0.]])"
            ]
          },
          "metadata": {
            "tags": []
          },
          "execution_count": 7
        }
      ]
    },
    {
      "cell_type": "code",
      "metadata": {
        "id": "2HEdks5xt4g9"
      },
      "source": [
        "x_test = x_test.reshape(x_test.shape[0],784).astype('float64')/255"
      ],
      "execution_count": null,
      "outputs": []
    },
    {
      "cell_type": "markdown",
      "metadata": {
        "id": "Ml2f86-_vgB3"
      },
      "source": [
        "클래스 값 확인"
      ]
    },
    {
      "cell_type": "code",
      "metadata": {
        "colab": {
          "base_uri": "https://localhost:8080/"
        },
        "id": "7ER_yvhDuJwr",
        "outputId": "4748b703-0035-4bda-ec17-9599bf4b9149"
      },
      "source": [
        "y_class_train[0]"
      ],
      "execution_count": null,
      "outputs": [
        {
          "output_type": "execute_result",
          "data": {
            "text/plain": [
              "5"
            ]
          },
          "metadata": {
            "tags": []
          },
          "execution_count": 9
        }
      ]
    },
    {
      "cell_type": "markdown",
      "metadata": {
        "id": "-V_EjJPOv_Qo"
      },
      "source": [
        "#### 원핫 인코딩\r\n",
        ": 0-9 사이 값을 0,1로만 이루어진 벡터로"
      ]
    },
    {
      "cell_type": "code",
      "metadata": {
        "colab": {
          "base_uri": "https://localhost:8080/"
        },
        "id": "THsoyYDWvnHH",
        "outputId": "03fab188-403d-4846-9385-ead692e68831"
      },
      "source": [
        "from keras.utils import np_utils\r\n",
        "\r\n",
        "y_train = np_utils.to_categorical(y_class_train,10)\r\n",
        "y_test = np_utils.to_categorical(y_class_test,10)\r\n",
        "\r\n",
        "print(y_class_train)\r\n",
        "print(y_class_test)\r\n",
        "print(y_train)\r\n",
        "print(y_test)\r\n"
      ],
      "execution_count": null,
      "outputs": [
        {
          "output_type": "stream",
          "text": [
            "[5 0 4 ... 5 6 8]\n",
            "[7 2 1 ... 4 5 6]\n",
            "[[0. 0. 0. ... 0. 0. 0.]\n",
            " [1. 0. 0. ... 0. 0. 0.]\n",
            " [0. 0. 0. ... 0. 0. 0.]\n",
            " ...\n",
            " [0. 0. 0. ... 0. 0. 0.]\n",
            " [0. 0. 0. ... 0. 0. 0.]\n",
            " [0. 0. 0. ... 0. 1. 0.]]\n",
            "[[0. 0. 0. ... 1. 0. 0.]\n",
            " [0. 0. 1. ... 0. 0. 0.]\n",
            " [0. 1. 0. ... 0. 0. 0.]\n",
            " ...\n",
            " [0. 0. 0. ... 0. 0. 0.]\n",
            " [0. 0. 0. ... 0. 0. 0.]\n",
            " [0. 0. 0. ... 0. 0. 0.]]\n"
          ],
          "name": "stdout"
        }
      ]
    },
    {
      "cell_type": "markdown",
      "metadata": {
        "id": "0PmgRT1bW-Vh"
      },
      "source": [
        "## 모델 설계 및 학습"
      ]
    },
    {
      "cell_type": "code",
      "metadata": {
        "id": "U4eo-2omxkzd"
      },
      "source": [
        "model = Sequential()\r\n",
        "model.add(Dense(512,input_dim=784,activation='relu'))\r\n",
        "model.add(Dense(10,activation='softmax'))"
      ],
      "execution_count": null,
      "outputs": []
    },
    {
      "cell_type": "code",
      "metadata": {
        "id": "iXaT3WeKX_wH"
      },
      "source": [
        "model.compile(loss='categorical_crossentropy',optimizer='adam',metrics=['accuracy'])\r\n"
      ],
      "execution_count": null,
      "outputs": []
    },
    {
      "cell_type": "markdown",
      "metadata": {
        "id": "sDxkkDYjZ2Wr"
      },
      "source": [
        "얼리스톱이란 모델체크 추가"
      ]
    },
    {
      "cell_type": "code",
      "metadata": {
        "id": "UWM1qH87Yt9C"
      },
      "source": [
        "import os\r\n",
        "\r\n",
        "MODEL_DIR = './model/'\r\n",
        "if not os.path.exists(MODEL_DIR):\r\n",
        "  os.mkdir(MODEL_DIR)\r\n",
        "\r\n",
        "modelpath = './model/{epoch:02d}-{val_loss:.4f}.hdf5'\r\n",
        "checkpointer = ModelCheckpoint(filepath=modelpath, monitor='val_loss', verbose=1,save_best_only=True) # verbose 안해주면 에러\r\n",
        "early_stop = EarlyStopping(monitor='val_loss',patience=10)"
      ],
      "execution_count": null,
      "outputs": []
    },
    {
      "cell_type": "markdown",
      "metadata": {
        "id": "1kowi_dsbkRV"
      },
      "source": [
        "* validation_data=(x_test,y_test) : 검증 셋 직접 설정"
      ]
    },
    {
      "cell_type": "code",
      "metadata": {
        "colab": {
          "base_uri": "https://localhost:8080/"
        },
        "id": "C-1-XyjXaIiS",
        "outputId": "e472dab5-cd55-44bc-a8b2-42cec9acebd4"
      },
      "source": [
        "hist=model.fit(x_train,y_train,validation_data=(x_test,y_test),epochs=30,batch_size=200,verbose=0,callbacks=[early_stop,checkpointer])"
      ],
      "execution_count": null,
      "outputs": [
        {
          "output_type": "stream",
          "text": [
            "\n",
            "Epoch 00001: val_loss improved from inf to 0.15215, saving model to ./model/01-0.1521.hdf5\n",
            "\n",
            "Epoch 00002: val_loss improved from 0.15215 to 0.10522, saving model to ./model/02-0.1052.hdf5\n",
            "\n",
            "Epoch 00003: val_loss improved from 0.10522 to 0.08454, saving model to ./model/03-0.0845.hdf5\n",
            "\n",
            "Epoch 00004: val_loss improved from 0.08454 to 0.07353, saving model to ./model/04-0.0735.hdf5\n",
            "\n",
            "Epoch 00005: val_loss improved from 0.07353 to 0.06617, saving model to ./model/05-0.0662.hdf5\n",
            "\n",
            "Epoch 00006: val_loss improved from 0.06617 to 0.06471, saving model to ./model/06-0.0647.hdf5\n",
            "\n",
            "Epoch 00007: val_loss did not improve from 0.06471\n",
            "\n",
            "Epoch 00008: val_loss improved from 0.06471 to 0.06375, saving model to ./model/08-0.0638.hdf5\n",
            "\n",
            "Epoch 00009: val_loss improved from 0.06375 to 0.06156, saving model to ./model/09-0.0616.hdf5\n",
            "\n",
            "Epoch 00010: val_loss did not improve from 0.06156\n",
            "\n",
            "Epoch 00011: val_loss did not improve from 0.06156\n",
            "\n",
            "Epoch 00012: val_loss improved from 0.06156 to 0.05906, saving model to ./model/12-0.0591.hdf5\n",
            "\n",
            "Epoch 00013: val_loss did not improve from 0.05906\n",
            "\n",
            "Epoch 00014: val_loss did not improve from 0.05906\n",
            "\n",
            "Epoch 00015: val_loss did not improve from 0.05906\n",
            "\n",
            "Epoch 00016: val_loss did not improve from 0.05906\n",
            "\n",
            "Epoch 00017: val_loss did not improve from 0.05906\n",
            "\n",
            "Epoch 00018: val_loss did not improve from 0.05906\n",
            "\n",
            "Epoch 00019: val_loss did not improve from 0.05906\n",
            "\n",
            "Epoch 00020: val_loss did not improve from 0.05906\n",
            "\n",
            "Epoch 00021: val_loss did not improve from 0.05906\n",
            "\n",
            "Epoch 00022: val_loss did not improve from 0.05906\n"
          ],
          "name": "stdout"
        }
      ]
    },
    {
      "cell_type": "markdown",
      "metadata": {
        "id": "IT4YE--4cHce"
      },
      "source": [
        "#### 학습 결과\r\n",
        "베스트 모델은 12번 에포크에서의 모델 "
      ]
    },
    {
      "cell_type": "code",
      "metadata": {
        "colab": {
          "base_uri": "https://localhost:8080/"
        },
        "id": "pR5sahPVa5xt",
        "outputId": "9fd8aac0-e1ee-4fa4-878e-bd82fc84616f"
      },
      "source": [
        "print(model.evaluate(x_test,y_test))"
      ],
      "execution_count": null,
      "outputs": [
        {
          "output_type": "stream",
          "text": [
            "313/313 [==============================] - 1s 3ms/step - loss: 0.0778 - accuracy: 0.9790\n",
            "[0.0778002142906189, 0.9789999723434448]\n"
          ],
          "name": "stdout"
        }
      ]
    },
    {
      "cell_type": "markdown",
      "metadata": {
        "id": "hzfwY5yjfkjY"
      },
      "source": [
        ""
      ]
    },
    {
      "cell_type": "markdown",
      "metadata": {
        "id": "Augro8Ypcd8o"
      },
      "source": [
        "## 결과 시각화"
      ]
    },
    {
      "cell_type": "markdown",
      "metadata": {
        "id": "oIe4gCFHeYB3"
      },
      "source": [
        "#### x 의 길이에 대한 테스트셋 과 훈련셋의 오차 데이터"
      ]
    },
    {
      "cell_type": "code",
      "metadata": {
        "colab": {
          "base_uri": "https://localhost:8080/"
        },
        "id": "_hNBlLxccEGt",
        "outputId": "dc837663-0b56-4f8f-a96f-1d09f1252452"
      },
      "source": [
        "y_vloss = hist.history['val_loss'] # 검증셋 오차\r\n",
        "y_loss = hist.history['loss'] # 학습셋 오차\r\n",
        "\r\n",
        "x_len = np.arange(len(y_loss))\r\n",
        "print(x_len)\r\n",
        "print(y_loss)"
      ],
      "execution_count": null,
      "outputs": [
        {
          "output_type": "stream",
          "text": [
            "[ 0  1  2  3  4  5  6  7  8  9 10 11 12 13 14 15 16 17 18 19 20 21]\n",
            "[0.2994602918624878, 0.12641453742980957, 0.08500514179468155, 0.061145491898059845, 0.04612521454691887, 0.03516874089837074, 0.027756808325648308, 0.02067694254219532, 0.016627557575702667, 0.013154215179383755, 0.01037298608571291, 0.007817060686647892, 0.005575049202889204, 0.004308097995817661, 0.004177328199148178, 0.002575955120846629, 0.002247835276648402, 0.0013727586483582854, 0.001119743101298809, 0.000841609900817275, 0.021648894995450974, 0.006867537274956703]\n"
          ],
          "name": "stdout"
        }
      ]
    },
    {
      "cell_type": "markdown",
      "metadata": {
        "id": "LelcbHriekB_"
      },
      "source": [
        "#### 플롯으로 표현"
      ]
    },
    {
      "cell_type": "markdown",
      "metadata": {
        "id": "o_3TbA1ofGc0"
      },
      "source": [
        "* plt.grid() : 플롯에 십자 선 표시"
      ]
    },
    {
      "cell_type": "code",
      "metadata": {
        "colab": {
          "base_uri": "https://localhost:8080/",
          "height": 279
        },
        "id": "ynDp-hpkdNAY",
        "outputId": "79b81aea-c713-42c2-83e8-e12ad5f25a70"
      },
      "source": [
        "plt.plot(x_len,y_loss,c='red',label='Testset_loss')\r\n",
        "plt.plot(x_len,y_vloss,c='blue',label='Traintset_loss')\r\n",
        "\r\n",
        "plt.legend(loc='upper right')\r\n",
        "plt.grid() \r\n",
        "plt.xlabel('epoch')\r\n",
        "plt.ylabel('loss')\r\n",
        "plt.show()"
      ],
      "execution_count": null,
      "outputs": [
        {
          "output_type": "display_data",
          "data": {
            "image/png": "[encoded data removed]",
            "text/plain": [
              "<Figure size 432x288 with 1 Axes>"
            ]
          },
          "metadata": {
            "tags": [],
            "needs_background": "light"
          }
        }
      ]
    },
    {
      "cell_type": "markdown",
      "metadata": {
        "id": "wK4IioGWvBcg"
      },
      "source": [
        "## CNN 실행하기"
      ]
    },
    {
      "cell_type": "markdown",
      "metadata": {
        "id": "IY9n3iwzvY9T"
      },
      "source": [
        ""
      ]
    },
    {
      "cell_type": "code",
      "metadata": {
        "id": "1526Hk5GvcdC"
      },
      "source": [
        "from keras.datasets import mnist\r\n",
        "from keras.utils import np_utils\r\n",
        "from keras.models import Sequential\r\n",
        "from keras.layers import Dense,Dropout, Flatten, Conv2D,MaxPooling2D\r\n",
        "from keras.callbacks import ModelCheckpoint,EarlyStopping \r\n",
        "\r\n",
        "\r\n",
        "import pandas as pd\r\n",
        "import numpy as np\r\n",
        "import tensorflow as tf\r\n",
        "import matplotlib.pyplot as plt\r\n",
        "import os\r\n",
        "\r\n"
      ],
      "execution_count": 1,
      "outputs": []
    },
    {
      "cell_type": "markdown",
      "metadata": {
        "id": "94qtgR9xv-xp"
      },
      "source": [
        "#### Seed 설정"
      ]
    },
    {
      "cell_type": "code",
      "metadata": {
        "id": "Eu3CIiJAvxlz"
      },
      "source": [
        "seed = 0\r\n",
        "np.random.seed(0)\r\n",
        "tf.random.set_seed(3)"
      ],
      "execution_count": 3,
      "outputs": []
    },
    {
      "cell_type": "markdown",
      "metadata": {
        "id": "ziyCp9FKwRva"
      },
      "source": [
        "#### 데이터 불러오기"
      ]
    },
    {
      "cell_type": "code",
      "metadata": {
        "colab": {
          "base_uri": "https://localhost:8080/"
        },
        "id": "IFwrouq2wOf4",
        "outputId": "c80e99c1-b4f1-4459-fff3-22e40d2b7497"
      },
      "source": [
        "(x_train,y_train),(x_test,y_test) = mnist.load_data()\r\n",
        "x_train = x_train.reshape(x_train.shape[0],28,28,1).astype('float32')/255\r\n",
        "x_test = x_test.reshape(x_test.shape[0],28,28,1).astype('float32')/255\r\n",
        "\r\n",
        "y_train = np_utils.to_categorical(y_train)\r\n",
        "y_test = np_utils.to_categorical(y_test)\r\n",
        "\r\n",
        "\r\n"
      ],
      "execution_count": 6,
      "outputs": [
        {
          "output_type": "stream",
          "text": [
            "Downloading data from https://storage.googleapis.com/tensorflow/tf-keras-datasets/mnist.npz\n",
            "11493376/11490434 [==============================] - 1s 0us/step\n"
          ],
          "name": "stdout"
        }
      ]
    },
    {
      "cell_type": "markdown",
      "metadata": {
        "id": "5Nfsbs9JxpHC"
      },
      "source": [
        "#### 모델 설계 및 학습"
      ]
    },
    {
      "cell_type": "markdown",
      "metadata": {
        "id": "79P5fsSZxmnm"
      },
      "source": [
        ""
      ]
    },
    {
      "cell_type": "code",
      "metadata": {
        "id": "KEuPhtcSxev2"
      },
      "source": [
        "model = Sequential()\r\n",
        "model.add(Conv2D(32, kernel_size=(3,3), input_shape=(28,28,1), activation='relu'))\r\n",
        "model.add(Conv2D(64,(3,3),activation='relu'))\r\n",
        "model.add(MaxPooling2D(pool_size=2)) # 절반으로 줄어듬\r\n",
        "model.add(Dropout(0.25))\r\n",
        "model.add(Flatten())\r\n",
        "model.add(Dense(128,activation='relu'))\r\n",
        "model.add(Dropout(0.5))\r\n",
        "model.add(Dense(10,activation='softmax'))\r\n",
        "\r\n",
        "\r\n",
        "model.compile(loss='categorical_crossentropy', optimizer = 'adam',metrics=['accuracy'])"
      ],
      "execution_count": 30,
      "outputs": []
    },
    {
      "cell_type": "code",
      "metadata": {
        "id": "Hio5vLqPzx7c"
      },
      "source": [
        "early_stopping = EarlyStopping(monitor='val_loss',patience=10)"
      ],
      "execution_count": 31,
      "outputs": []
    },
    {
      "cell_type": "markdown",
      "metadata": {
        "id": "oX0Tb--45K-V"
      },
      "source": [
        "* 모델 검증셋 지정 방법\r\n",
        "1. validation_split=0.3 으로 훈련데이터 안에서 검증셋 따로 생성\r\n",
        "2. validation_data=(xtext,y-test) 로 검증셋 지정이나 불러오기"
      ]
    },
    {
      "cell_type": "code",
      "metadata": {
        "colab": {
          "base_uri": "https://localhost:8080/"
        },
        "id": "betjmYI_30CK",
        "outputId": "280db7d3-6679-4303-abaf-ff2d3373c04a"
      },
      "source": [
        "hist = model.fit(x_train,y_train, epochs=30,batch_size=200,callbacks=[early_stopping],validation_data=(x_test,y_test)) # 검증셋 선택하는 법 validation_data=(xtext,y-test)로 직접 지정할 수 있음"
      ],
      "execution_count": 34,
      "outputs": [
        {
          "output_type": "stream",
          "text": [
            "Epoch 1/30\n",
            "300/300 [==============================] - 7s 20ms/step - loss: 0.5479 - accuracy: 0.8282 - val_loss: 0.0583 - val_accuracy: 0.9815\n",
            "Epoch 2/30\n",
            "300/300 [==============================] - 6s 20ms/step - loss: 0.0964 - accuracy: 0.9708 - val_loss: 0.0400 - val_accuracy: 0.9871\n",
            "Epoch 3/30\n",
            "300/300 [==============================] - 6s 19ms/step - loss: 0.0645 - accuracy: 0.9807 - val_loss: 0.0364 - val_accuracy: 0.9883\n",
            "Epoch 4/30\n",
            "300/300 [==============================] - 6s 20ms/step - loss: 0.0559 - accuracy: 0.9824 - val_loss: 0.0349 - val_accuracy: 0.9885\n",
            "Epoch 5/30\n",
            "300/300 [==============================] - 6s 20ms/step - loss: 0.0471 - accuracy: 0.9855 - val_loss: 0.0301 - val_accuracy: 0.9905\n",
            "Epoch 6/30\n",
            "300/300 [==============================] - 6s 20ms/step - loss: 0.0391 - accuracy: 0.9865 - val_loss: 0.0305 - val_accuracy: 0.9893\n",
            "Epoch 7/30\n",
            "300/300 [==============================] - 6s 20ms/step - loss: 0.0346 - accuracy: 0.9890 - val_loss: 0.0278 - val_accuracy: 0.9912\n",
            "Epoch 8/30\n",
            "300/300 [==============================] - 6s 19ms/step - loss: 0.0345 - accuracy: 0.9899 - val_loss: 0.0276 - val_accuracy: 0.9916\n",
            "Epoch 9/30\n",
            "300/300 [==============================] - 6s 19ms/step - loss: 0.0324 - accuracy: 0.9893 - val_loss: 0.0302 - val_accuracy: 0.9908\n",
            "Epoch 10/30\n",
            "300/300 [==============================] - 6s 20ms/step - loss: 0.0271 - accuracy: 0.9910 - val_loss: 0.0294 - val_accuracy: 0.9914\n",
            "Epoch 11/30\n",
            "300/300 [==============================] - 6s 20ms/step - loss: 0.0247 - accuracy: 0.9915 - val_loss: 0.0292 - val_accuracy: 0.9908\n",
            "Epoch 12/30\n",
            "300/300 [==============================] - 6s 20ms/step - loss: 0.0229 - accuracy: 0.9932 - val_loss: 0.0305 - val_accuracy: 0.9906\n",
            "Epoch 13/30\n",
            "300/300 [==============================] - 6s 20ms/step - loss: 0.0210 - accuracy: 0.9929 - val_loss: 0.0265 - val_accuracy: 0.9916\n",
            "Epoch 14/30\n",
            "300/300 [==============================] - 6s 20ms/step - loss: 0.0171 - accuracy: 0.9942 - val_loss: 0.0282 - val_accuracy: 0.9920\n",
            "Epoch 15/30\n",
            "300/300 [==============================] - 6s 20ms/step - loss: 0.0192 - accuracy: 0.9934 - val_loss: 0.0272 - val_accuracy: 0.9925\n",
            "Epoch 16/30\n",
            "300/300 [==============================] - 6s 20ms/step - loss: 0.0191 - accuracy: 0.9935 - val_loss: 0.0277 - val_accuracy: 0.9926\n",
            "Epoch 17/30\n",
            "300/300 [==============================] - 6s 20ms/step - loss: 0.0161 - accuracy: 0.9946 - val_loss: 0.0298 - val_accuracy: 0.9923\n",
            "Epoch 18/30\n",
            "300/300 [==============================] - 6s 20ms/step - loss: 0.0164 - accuracy: 0.9945 - val_loss: 0.0322 - val_accuracy: 0.9922\n",
            "Epoch 19/30\n",
            "300/300 [==============================] - 6s 19ms/step - loss: 0.0155 - accuracy: 0.9944 - val_loss: 0.0270 - val_accuracy: 0.9932\n",
            "Epoch 20/30\n",
            "300/300 [==============================] - 6s 20ms/step - loss: 0.0151 - accuracy: 0.9949 - val_loss: 0.0343 - val_accuracy: 0.9923\n",
            "Epoch 21/30\n",
            "300/300 [==============================] - 6s 20ms/step - loss: 0.0151 - accuracy: 0.9948 - val_loss: 0.0298 - val_accuracy: 0.9926\n",
            "Epoch 22/30\n",
            "300/300 [==============================] - 6s 20ms/step - loss: 0.0129 - accuracy: 0.9955 - val_loss: 0.0330 - val_accuracy: 0.9927\n",
            "Epoch 23/30\n",
            "300/300 [==============================] - 6s 20ms/step - loss: 0.0123 - accuracy: 0.9958 - val_loss: 0.0299 - val_accuracy: 0.9937\n"
          ],
          "name": "stdout"
        }
      ]
    },
    {
      "cell_type": "markdown",
      "metadata": {
        "id": "1PQcbZfE8Bw4"
      },
      "source": [
        "22 번째 에포크에서 반복 중단 12 번 에포크에서 정확도 제일 높았음"
      ]
    },
    {
      "cell_type": "markdown",
      "metadata": {
        "id": "xMWFR8EP50Us"
      },
      "source": [
        "#### 모델 정확도"
      ]
    },
    {
      "cell_type": "code",
      "metadata": {
        "colab": {
          "base_uri": "https://localhost:8080/"
        },
        "id": "CZ0IJJxG4bLv",
        "outputId": "efa35198-a9eb-44ec-99f3-e78a4319776f"
      },
      "source": [
        "print(model.evaluate(x_test,y_test))"
      ],
      "execution_count": 35,
      "outputs": [
        {
          "output_type": "stream",
          "text": [
            "313/313 [==============================] - 1s 4ms/step - loss: 0.0299 - accuracy: 0.9937\n",
            "[0.029853487387299538, 0.9937000274658203]\n"
          ],
          "name": "stdout"
        }
      ]
    },
    {
      "cell_type": "markdown",
      "metadata": {
        "id": "3zOWHtbP5669"
      },
      "source": [
        "#### 학습 시각화"
      ]
    },
    {
      "cell_type": "code",
      "metadata": {
        "colab": {
          "base_uri": "https://localhost:8080/",
          "height": 279
        },
        "id": "_dCfUv6c5ye-",
        "outputId": "99d93e56-de14-46e5-b9c5-d9f5a264ef69"
      },
      "source": [
        "y_vloss = history.history['val_loss']\r\n",
        "y_loss = history.history['loss']\r\n",
        "\r\n",
        "x_len = np.arange(len(y_vloss))\r\n",
        "plt.plot(x_len,y_vloss,c='red',label='testset_loss')\r\n",
        "plt.plot(x_len,y_loss,c='blue',label='trainset_loss')\r\n",
        "\r\n",
        "plt.legend(loc='center right')\r\n",
        "plt.grid()\r\n",
        "plt.xlabel('epoch')\r\n",
        "plt.ylabel('loss')\r\n",
        "plt.show()"
      ],
      "execution_count": 36,
      "outputs": [
        {
          "output_type": "display_data",
          "data": {
            "image/png": "[encoded data removed]",
            "text/plain": [
              "<Figure size 432x288 with 1 Axes>"
            ]
          },
          "metadata": {
            "tags": [],
            "needs_background": "light"
          }
        }
      ]
    },
    {
      "cell_type": "markdown",
      "metadata": {
        "id": "xdVoKtv98K__"
      },
      "source": [
        "5에포크 이후 과적합 시작되는 것으로 보임"
      ]
    },
    {
      "cell_type": "code",
      "metadata": {
        "id": "stlWwfBN7CQu"
      },
      "source": [
        ""
      ],
      "execution_count": 36,
      "outputs": []
    }
  ]
}