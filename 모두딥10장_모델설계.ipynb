{
  "nbformat": 4,
  "nbformat_minor": 0,
  "metadata": {
    "colab": {
      "name": "모두딥10장 모델설계.ipynb",
      "provenance": [],
      "collapsed_sections": [],
      "mount_file_id": "1ka_2nE7KaXXeOyKwayjLpw3yiWVcoFd6",
      "authorship_tag": "ABX9TyPhhhxYYRmM3lB53dGaafI5",
      "include_colab_link": true
    },
    "kernelspec": {
      "name": "python3",
      "display_name": "Python 3"
    }
  },
  "cells": [
    {
      "cell_type": "markdown",
      "metadata": {
        "id": "view-in-github",
        "colab_type": "text"
      },
      "source": [
        "<a href=\"https://colab.research.google.com/github/xhaktmchl/DeepLearning_basic_study/blob/main/%EB%AA%A8%EB%91%90%EB%94%A510%EC%9E%A5_%EB%AA%A8%EB%8D%B8%EC%84%A4%EA%B3%84.ipynb\" target=\"_parent\"><img src=\"https://colab.research.google.com/assets/colab-badge.svg\" alt=\"Open In Colab\"/></a>"
      ]
    },
    {
      "cell_type": "markdown",
      "metadata": {
        "id": "da6bNyocR9Kj"
      },
      "source": [
        "# 10장 모델 설계 실습\r\n",
        "\r\n",
        "### 폐암 수술 환자 생존율 예측하기"
      ]
    },
    {
      "cell_type": "code",
      "metadata": {
        "id": "1dfN4XOdRsC1"
      },
      "source": [
        "# 함수 호출\r\n",
        "from tensorflow.keras.models import Sequential\r\n",
        "from tensorflow.keras.layers import Dense\r\n",
        "# 라이브러리 호출\r\n",
        "import numpy as np\r\n",
        "import tensorflow as tf"
      ],
      "execution_count": null,
      "outputs": []
    },
    {
      "cell_type": "code",
      "metadata": {
        "id": "Syjj7LZnSe9b"
      },
      "source": [
        "# 실행할 때마다 같은 결과 씨드 설정\r\n",
        "np.random.seed(3)\r\n",
        "tf.random.set_seed(3)\r\n",
        "\r\n",
        "# 수술 환자 데이터 불러오기\r\n",
        "# 구글 드라이브에 저장 시키고 연동한 다음 파일 경로복사하면 됨\r\n",
        "data_set = np.loadtxt(\"../content/drive/MyDrive/모두의 딥러닝/deeplearning/dataset/ThoraricSurgery.csv\",delimiter=\",\")\r\n",
        "\r\n",
        "# 환자의 기록과 수술 결과 x,y 나누기\r\n",
        "x = data_set[:,0:17]\r\n",
        "y = data_set[:,17]"
      ],
      "execution_count": null,
      "outputs": []
    },
    {
      "cell_type": "code",
      "metadata": {
        "colab": {
          "base_uri": "https://localhost:8080/"
        },
        "id": "EmaBBeSRW_8X",
        "outputId": "2662cf32-f3e7-482f-f38c-ee1851344b2f"
      },
      "source": [
        "data_set"
      ],
      "execution_count": null,
      "outputs": [
        {
          "output_type": "execute_result",
          "data": {
            "text/plain": [
              "array([[293.  ,   1.  ,   3.8 , ...,   0.  ,  62.  ,   0.  ],\n",
              "       [  1.  ,   2.  ,   2.88, ...,   0.  ,  60.  ,   0.  ],\n",
              "       [  8.  ,   2.  ,   3.19, ...,   0.  ,  66.  ,   1.  ],\n",
              "       ...,\n",
              "       [406.  ,   6.  ,   5.36, ...,   0.  ,  62.  ,   0.  ],\n",
              "       [ 25.  ,   8.  ,   4.32, ...,   0.  ,  58.  ,   1.  ],\n",
              "       [447.  ,   8.  ,   5.2 , ...,   0.  ,  49.  ,   0.  ]])"
            ]
          },
          "metadata": {
            "tags": []
          },
          "execution_count": 8
        }
      ]
    },
    {
      "cell_type": "markdown",
      "metadata": {
        "id": "G1_31ETeXJ_J"
      },
      "source": [
        "### 모델의 구조 만들기"
      ]
    },
    {
      "cell_type": "code",
      "metadata": {
        "id": "tva3ZO6pXIGF"
      },
      "source": [
        "model = Sequential() # 모델에 층 추가 가능\r\n",
        "model.add(Dense(30,input_dim=17,activation='relu')) # 노드 30개 17개의 데이터 가져옴,활성화 함수는 렐루\r\n",
        "model.add(Dense(1,activation='sigmoid'))"
      ],
      "execution_count": null,
      "outputs": []
    },
    {
      "cell_type": "markdown",
      "metadata": {
        "id": "sGoQSDS3Zit2"
      },
      "source": [
        "### 모델 컴파일"
      ]
    },
    {
      "cell_type": "code",
      "metadata": {
        "id": "tSrc-oxOZnVu"
      },
      "source": [
        "# 손싷함수 편균제고오차, 최적화, 지표\r\n",
        "model.compile(loss='mean_squared_error',optimizer='adam',metrics=['accuracy'])"
      ],
      "execution_count": null,
      "outputs": []
    },
    {
      "cell_type": "markdown",
      "metadata": {
        "id": "_qmeafrHe0OS"
      },
      "source": [
        "### 모델 반복 학습 "
      ]
    },
    {
      "cell_type": "code",
      "metadata": {
        "colab": {
          "base_uri": "https://localhost:8080/"
        },
        "id": "rKWrOAHje4qv",
        "outputId": "8b62f672-613b-42e4-9481-28ca86609b08"
      },
      "source": [
        "model.fit(x,y,epochs=100,batch_size=10)"
      ],
      "execution_count": null,
      "outputs": [
        {
          "output_type": "stream",
          "text": [
            "Epoch 1/100\n",
            "47/47 [==============================] - 0s 1ms/step - loss: 0.1256 - accuracy: 0.8575\n",
            "Epoch 2/100\n",
            "47/47 [==============================] - 0s 1ms/step - loss: 0.1126 - accuracy: 0.8739\n",
            "Epoch 3/100\n",
            "47/47 [==============================] - 0s 1ms/step - loss: 0.1387 - accuracy: 0.8437\n",
            "Epoch 4/100\n",
            "47/47 [==============================] - 0s 1ms/step - loss: 0.1301 - accuracy: 0.8454\n",
            "Epoch 5/100\n",
            "47/47 [==============================] - 0s 1ms/step - loss: 0.1192 - accuracy: 0.8559\n",
            "Epoch 6/100\n",
            "47/47 [==============================] - 0s 1ms/step - loss: 0.1162 - accuracy: 0.8614\n",
            "Epoch 7/100\n",
            "47/47 [==============================] - 0s 1ms/step - loss: 0.1252 - accuracy: 0.8464\n",
            "Epoch 8/100\n",
            "47/47 [==============================] - 0s 1ms/step - loss: 0.1212 - accuracy: 0.8539\n",
            "Epoch 9/100\n",
            "47/47 [==============================] - 0s 1ms/step - loss: 0.1127 - accuracy: 0.8657\n",
            "Epoch 10/100\n",
            "47/47 [==============================] - 0s 1ms/step - loss: 0.1085 - accuracy: 0.8757\n",
            "Epoch 11/100\n",
            "47/47 [==============================] - 0s 1ms/step - loss: 0.1253 - accuracy: 0.8386\n",
            "Epoch 12/100\n",
            "47/47 [==============================] - 0s 1ms/step - loss: 0.1181 - accuracy: 0.8450\n",
            "Epoch 13/100\n",
            "47/47 [==============================] - 0s 1ms/step - loss: 0.1320 - accuracy: 0.8394\n",
            "Epoch 14/100\n",
            "47/47 [==============================] - 0s 1ms/step - loss: 0.1396 - accuracy: 0.8443\n",
            "Epoch 15/100\n",
            "47/47 [==============================] - 0s 1ms/step - loss: 0.1185 - accuracy: 0.8532\n",
            "Epoch 16/100\n",
            "47/47 [==============================] - 0s 1ms/step - loss: 0.1291 - accuracy: 0.8622\n",
            "Epoch 17/100\n",
            "47/47 [==============================] - 0s 1ms/step - loss: 0.1226 - accuracy: 0.8628\n",
            "Epoch 18/100\n",
            "47/47 [==============================] - 0s 1ms/step - loss: 0.1191 - accuracy: 0.8589\n",
            "Epoch 19/100\n",
            "47/47 [==============================] - 0s 1ms/step - loss: 0.1301 - accuracy: 0.8496\n",
            "Epoch 20/100\n",
            "47/47 [==============================] - 0s 1ms/step - loss: 0.1153 - accuracy: 0.8777\n",
            "Epoch 21/100\n",
            "47/47 [==============================] - 0s 1ms/step - loss: 0.1216 - accuracy: 0.8648\n",
            "Epoch 22/100\n",
            "47/47 [==============================] - 0s 1ms/step - loss: 0.1166 - accuracy: 0.8552\n",
            "Epoch 23/100\n",
            "47/47 [==============================] - 0s 1ms/step - loss: 0.1325 - accuracy: 0.8365\n",
            "Epoch 24/100\n",
            "47/47 [==============================] - 0s 1ms/step - loss: 0.1222 - accuracy: 0.8566\n",
            "Epoch 25/100\n",
            "47/47 [==============================] - 0s 1ms/step - loss: 0.1489 - accuracy: 0.8418\n",
            "Epoch 26/100\n",
            "47/47 [==============================] - 0s 1ms/step - loss: 0.1273 - accuracy: 0.8668\n",
            "Epoch 27/100\n",
            "47/47 [==============================] - 0s 1ms/step - loss: 0.1232 - accuracy: 0.8604\n",
            "Epoch 28/100\n",
            "47/47 [==============================] - 0s 1ms/step - loss: 0.1275 - accuracy: 0.8436\n",
            "Epoch 29/100\n",
            "47/47 [==============================] - 0s 1ms/step - loss: 0.1087 - accuracy: 0.8981\n",
            "Epoch 30/100\n",
            "47/47 [==============================] - 0s 1ms/step - loss: 0.0920 - accuracy: 0.8920\n",
            "Epoch 31/100\n",
            "47/47 [==============================] - 0s 1ms/step - loss: 0.1069 - accuracy: 0.8747\n",
            "Epoch 32/100\n",
            "47/47 [==============================] - 0s 1ms/step - loss: 0.1138 - accuracy: 0.8734\n",
            "Epoch 33/100\n",
            "47/47 [==============================] - 0s 1ms/step - loss: 0.1099 - accuracy: 0.8792\n",
            "Epoch 34/100\n",
            "47/47 [==============================] - 0s 1ms/step - loss: 0.1124 - accuracy: 0.8634\n",
            "Epoch 35/100\n",
            "47/47 [==============================] - 0s 1ms/step - loss: 0.1276 - accuracy: 0.8760\n",
            "Epoch 36/100\n",
            "47/47 [==============================] - 0s 1ms/step - loss: 0.1364 - accuracy: 0.8504\n",
            "Epoch 37/100\n",
            "47/47 [==============================] - 0s 1ms/step - loss: 0.1317 - accuracy: 0.8547\n",
            "Epoch 38/100\n",
            "47/47 [==============================] - 0s 1ms/step - loss: 0.1209 - accuracy: 0.8532\n",
            "Epoch 39/100\n",
            "47/47 [==============================] - 0s 1ms/step - loss: 0.1159 - accuracy: 0.8660\n",
            "Epoch 40/100\n",
            "47/47 [==============================] - 0s 1ms/step - loss: 0.1174 - accuracy: 0.8647\n",
            "Epoch 41/100\n",
            "47/47 [==============================] - 0s 1ms/step - loss: 0.1280 - accuracy: 0.8549\n",
            "Epoch 42/100\n",
            "47/47 [==============================] - 0s 1ms/step - loss: 0.1119 - accuracy: 0.8727\n",
            "Epoch 43/100\n",
            "47/47 [==============================] - 0s 2ms/step - loss: 0.1014 - accuracy: 0.8738\n",
            "Epoch 44/100\n",
            "47/47 [==============================] - 0s 1ms/step - loss: 0.1006 - accuracy: 0.8957\n",
            "Epoch 45/100\n",
            "47/47 [==============================] - 0s 1ms/step - loss: 0.1153 - accuracy: 0.8595\n",
            "Epoch 46/100\n",
            "47/47 [==============================] - 0s 1ms/step - loss: 0.1164 - accuracy: 0.8582\n",
            "Epoch 47/100\n",
            "47/47 [==============================] - 0s 1ms/step - loss: 0.0957 - accuracy: 0.8899\n",
            "Epoch 48/100\n",
            "47/47 [==============================] - 0s 1ms/step - loss: 0.1082 - accuracy: 0.8900\n",
            "Epoch 49/100\n",
            "47/47 [==============================] - 0s 1ms/step - loss: 0.1191 - accuracy: 0.8605\n",
            "Epoch 50/100\n",
            "47/47 [==============================] - 0s 1ms/step - loss: 0.0940 - accuracy: 0.8821\n",
            "Epoch 51/100\n",
            "47/47 [==============================] - 0s 1ms/step - loss: 0.1139 - accuracy: 0.8618\n",
            "Epoch 52/100\n",
            "47/47 [==============================] - 0s 1ms/step - loss: 0.1234 - accuracy: 0.8427\n",
            "Epoch 53/100\n",
            "47/47 [==============================] - 0s 1ms/step - loss: 0.1171 - accuracy: 0.8567\n",
            "Epoch 54/100\n",
            "47/47 [==============================] - 0s 1ms/step - loss: 0.1250 - accuracy: 0.8439\n",
            "Epoch 55/100\n",
            "47/47 [==============================] - 0s 1ms/step - loss: 0.1135 - accuracy: 0.8740\n",
            "Epoch 56/100\n",
            "47/47 [==============================] - 0s 1ms/step - loss: 0.1188 - accuracy: 0.8614\n",
            "Epoch 57/100\n",
            "47/47 [==============================] - 0s 1ms/step - loss: 0.1201 - accuracy: 0.8629\n",
            "Epoch 58/100\n",
            "47/47 [==============================] - 0s 1ms/step - loss: 0.1022 - accuracy: 0.8855\n",
            "Epoch 59/100\n",
            "47/47 [==============================] - 0s 1ms/step - loss: 0.1311 - accuracy: 0.8581\n",
            "Epoch 60/100\n",
            "47/47 [==============================] - 0s 1ms/step - loss: 0.0947 - accuracy: 0.9031\n",
            "Epoch 61/100\n",
            "47/47 [==============================] - 0s 1ms/step - loss: 0.1075 - accuracy: 0.8755\n",
            "Epoch 62/100\n",
            "47/47 [==============================] - 0s 1ms/step - loss: 0.1131 - accuracy: 0.8735\n",
            "Epoch 63/100\n",
            "47/47 [==============================] - 0s 1ms/step - loss: 0.1037 - accuracy: 0.8757\n",
            "Epoch 64/100\n",
            "47/47 [==============================] - 0s 1ms/step - loss: 0.1149 - accuracy: 0.8648\n",
            "Epoch 65/100\n",
            "47/47 [==============================] - 0s 1ms/step - loss: 0.1104 - accuracy: 0.8696\n",
            "Epoch 66/100\n",
            "47/47 [==============================] - 0s 1ms/step - loss: 0.1143 - accuracy: 0.8592\n",
            "Epoch 67/100\n",
            "47/47 [==============================] - 0s 1ms/step - loss: 0.1034 - accuracy: 0.8770\n",
            "Epoch 68/100\n",
            "47/47 [==============================] - 0s 1ms/step - loss: 0.1173 - accuracy: 0.8770\n",
            "Epoch 69/100\n",
            "47/47 [==============================] - 0s 1ms/step - loss: 0.1281 - accuracy: 0.8456\n",
            "Epoch 70/100\n",
            "47/47 [==============================] - 0s 1ms/step - loss: 0.1149 - accuracy: 0.8648\n",
            "Epoch 71/100\n",
            "47/47 [==============================] - 0s 1ms/step - loss: 0.1285 - accuracy: 0.8433\n",
            "Epoch 72/100\n",
            "47/47 [==============================] - 0s 1ms/step - loss: 0.1088 - accuracy: 0.8752\n",
            "Epoch 73/100\n",
            "47/47 [==============================] - 0s 1ms/step - loss: 0.1323 - accuracy: 0.8521\n",
            "Epoch 74/100\n",
            "47/47 [==============================] - 0s 1ms/step - loss: 0.1200 - accuracy: 0.8738\n",
            "Epoch 75/100\n",
            "47/47 [==============================] - 0s 1ms/step - loss: 0.0970 - accuracy: 0.8864\n",
            "Epoch 76/100\n",
            "47/47 [==============================] - 0s 1ms/step - loss: 0.1080 - accuracy: 0.8697\n",
            "Epoch 77/100\n",
            "47/47 [==============================] - 0s 1ms/step - loss: 0.1372 - accuracy: 0.8496\n",
            "Epoch 78/100\n",
            "47/47 [==============================] - 0s 1ms/step - loss: 0.1092 - accuracy: 0.8707\n",
            "Epoch 79/100\n",
            "47/47 [==============================] - 0s 1ms/step - loss: 0.1205 - accuracy: 0.8701\n",
            "Epoch 80/100\n",
            "47/47 [==============================] - 0s 1ms/step - loss: 0.1194 - accuracy: 0.8569\n",
            "Epoch 81/100\n",
            "47/47 [==============================] - 0s 1ms/step - loss: 0.1026 - accuracy: 0.8841\n",
            "Epoch 82/100\n",
            "47/47 [==============================] - 0s 1ms/step - loss: 0.1196 - accuracy: 0.8700\n",
            "Epoch 83/100\n",
            "47/47 [==============================] - 0s 1ms/step - loss: 0.1228 - accuracy: 0.8601\n",
            "Epoch 84/100\n",
            "47/47 [==============================] - 0s 1ms/step - loss: 0.0935 - accuracy: 0.8971\n",
            "Epoch 85/100\n",
            "47/47 [==============================] - 0s 1ms/step - loss: 0.1148 - accuracy: 0.8637\n",
            "Epoch 86/100\n",
            "47/47 [==============================] - 0s 1ms/step - loss: 0.0992 - accuracy: 0.8854\n",
            "Epoch 87/100\n",
            "47/47 [==============================] - 0s 1ms/step - loss: 0.1093 - accuracy: 0.8710\n",
            "Epoch 88/100\n",
            "47/47 [==============================] - 0s 1ms/step - loss: 0.1024 - accuracy: 0.8849\n",
            "Epoch 89/100\n",
            "47/47 [==============================] - 0s 1ms/step - loss: 0.1267 - accuracy: 0.8455\n",
            "Epoch 90/100\n",
            "47/47 [==============================] - 0s 1ms/step - loss: 0.1058 - accuracy: 0.8749\n",
            "Epoch 91/100\n",
            "47/47 [==============================] - 0s 1ms/step - loss: 0.1189 - accuracy: 0.8745\n",
            "Epoch 92/100\n",
            "47/47 [==============================] - 0s 1ms/step - loss: 0.1303 - accuracy: 0.8467\n",
            "Epoch 93/100\n",
            "47/47 [==============================] - 0s 1ms/step - loss: 0.1250 - accuracy: 0.8484\n",
            "Epoch 94/100\n",
            "47/47 [==============================] - 0s 1ms/step - loss: 0.1185 - accuracy: 0.8690\n",
            "Epoch 95/100\n",
            "47/47 [==============================] - 0s 1ms/step - loss: 0.1152 - accuracy: 0.8651\n",
            "Epoch 96/100\n",
            "47/47 [==============================] - 0s 986us/step - loss: 0.1132 - accuracy: 0.8741\n",
            "Epoch 97/100\n",
            "47/47 [==============================] - 0s 1ms/step - loss: 0.1329 - accuracy: 0.8318\n",
            "Epoch 98/100\n",
            "47/47 [==============================] - 0s 1ms/step - loss: 0.1131 - accuracy: 0.8711\n",
            "Epoch 99/100\n",
            "47/47 [==============================] - 0s 1ms/step - loss: 0.1041 - accuracy: 0.8825\n",
            "Epoch 100/100\n",
            "47/47 [==============================] - 0s 1ms/step - loss: 0.1139 - accuracy: 0.8604\n"
          ],
          "name": "stdout"
        },
        {
          "output_type": "execute_result",
          "data": {
            "text/plain": [
              "<tensorflow.python.keras.callbacks.History at 0x7f7a032e0a90>"
            ]
          },
          "metadata": {
            "tags": []
          },
          "execution_count": 17
        }
      ]
    },
    {
      "cell_type": "markdown",
      "metadata": {
        "id": "QZX46weafhjp"
      },
      "source": [
        "### 학습 결과\r\n",
        "\r\n",
        "정확도 0.8604 손실 : 0.1139"
      ]
    },
    {
      "cell_type": "code",
      "metadata": {
        "colab": {
          "base_uri": "https://localhost:8080/"
        },
        "id": "E-RB4oOVfkB0",
        "outputId": "76e3702d-d7f6-49d7-e4e1-07b4ab7a57fe"
      },
      "source": [
        "model.summary()"
      ],
      "execution_count": null,
      "outputs": [
        {
          "output_type": "stream",
          "text": [
            "Model: \"sequential\"\n",
            "_________________________________________________________________\n",
            "Layer (type)                 Output Shape              Param #   \n",
            "=================================================================\n",
            "dense (Dense)                (None, 30)                540       \n",
            "_________________________________________________________________\n",
            "dense_1 (Dense)              (None, 1)                 31        \n",
            "=================================================================\n",
            "Total params: 571\n",
            "Trainable params: 571\n",
            "Non-trainable params: 0\n",
            "_________________________________________________________________\n"
          ],
          "name": "stdout"
        }
      ]
    },
    {
      "cell_type": "markdown",
      "metadata": {
        "id": "na_qUCxRapsa"
      },
      "source": [
        "### 손실함수를 교차 엔트로피로"
      ]
    },
    {
      "cell_type": "code",
      "metadata": {
        "id": "Fuza7llyaedi"
      },
      "source": [
        "# 손싷함수 , 최적화, 지표\r\n",
        "model.compile(loss='binary_crossentropy',optimizer='adam',metrics=['accuracy'])"
      ],
      "execution_count": null,
      "outputs": []
    },
    {
      "cell_type": "code",
      "metadata": {
        "colab": {
          "base_uri": "https://localhost:8080/"
        },
        "id": "xwZgzOgugQMt",
        "outputId": "1847d4f3-b0fb-4810-86e9-1cd5fb6496b8"
      },
      "source": [
        "# 모델 학습\r\n",
        "# 에포크 학습 횟수, batch_size 는 한번에 학습하는 데이터량\r\n",
        "model.fit(x,y,epochs=50,batch_size=10)"
      ],
      "execution_count": null,
      "outputs": [
        {
          "output_type": "stream",
          "text": [
            "Epoch 1/50\n",
            "47/47 [==============================] - 0s 1ms/step - loss: 0.3758 - accuracy: 0.8729\n",
            "Epoch 2/50\n",
            "47/47 [==============================] - 0s 1ms/step - loss: 0.3641 - accuracy: 0.8799\n",
            "Epoch 3/50\n",
            "47/47 [==============================] - 0s 1ms/step - loss: 0.3936 - accuracy: 0.8492\n",
            "Epoch 4/50\n",
            "47/47 [==============================] - 0s 1ms/step - loss: 0.4184 - accuracy: 0.8656\n",
            "Epoch 5/50\n",
            "47/47 [==============================] - 0s 1ms/step - loss: 0.3736 - accuracy: 0.8801\n",
            "Epoch 6/50\n",
            "47/47 [==============================] - 0s 1ms/step - loss: 0.3518 - accuracy: 0.8754\n",
            "Epoch 7/50\n",
            "47/47 [==============================] - 0s 1ms/step - loss: 0.4065 - accuracy: 0.8625\n",
            "Epoch 8/50\n",
            "47/47 [==============================] - 0s 1ms/step - loss: 0.3694 - accuracy: 0.8763\n",
            "Epoch 9/50\n",
            "47/47 [==============================] - 0s 1ms/step - loss: 0.3221 - accuracy: 0.8672\n",
            "Epoch 10/50\n",
            "47/47 [==============================] - 0s 1ms/step - loss: 0.3339 - accuracy: 0.8889\n",
            "Epoch 11/50\n",
            "47/47 [==============================] - 0s 1ms/step - loss: 0.3971 - accuracy: 0.8553\n",
            "Epoch 12/50\n",
            "47/47 [==============================] - 0s 1ms/step - loss: 0.3654 - accuracy: 0.8834\n",
            "Epoch 13/50\n",
            "47/47 [==============================] - 0s 1ms/step - loss: 0.4078 - accuracy: 0.8501\n",
            "Epoch 14/50\n",
            "47/47 [==============================] - 0s 1ms/step - loss: 0.3851 - accuracy: 0.8583\n",
            "Epoch 15/50\n",
            "47/47 [==============================] - 0s 1ms/step - loss: 0.4189 - accuracy: 0.8570\n",
            "Epoch 16/50\n",
            "47/47 [==============================] - 0s 1ms/step - loss: 0.3663 - accuracy: 0.8646\n",
            "Epoch 17/50\n",
            "47/47 [==============================] - 0s 1ms/step - loss: 0.3609 - accuracy: 0.8753\n",
            "Epoch 18/50\n",
            "47/47 [==============================] - 0s 1ms/step - loss: 0.3851 - accuracy: 0.8810\n",
            "Epoch 19/50\n",
            "47/47 [==============================] - 0s 2ms/step - loss: 0.3659 - accuracy: 0.8678\n",
            "Epoch 20/50\n",
            "47/47 [==============================] - 0s 2ms/step - loss: 0.3714 - accuracy: 0.8918\n",
            "Epoch 21/50\n",
            "47/47 [==============================] - 0s 1ms/step - loss: 0.3572 - accuracy: 0.8689\n",
            "Epoch 22/50\n",
            "47/47 [==============================] - 0s 1ms/step - loss: 0.3396 - accuracy: 0.8694\n",
            "Epoch 23/50\n",
            "47/47 [==============================] - 0s 1ms/step - loss: 0.3776 - accuracy: 0.8698\n",
            "Epoch 24/50\n",
            "47/47 [==============================] - 0s 1ms/step - loss: 0.3673 - accuracy: 0.8651\n",
            "Epoch 25/50\n",
            "47/47 [==============================] - 0s 2ms/step - loss: 0.3954 - accuracy: 0.8640\n",
            "Epoch 26/50\n",
            "47/47 [==============================] - 0s 1ms/step - loss: 0.4047 - accuracy: 0.8569\n",
            "Epoch 27/50\n",
            "47/47 [==============================] - 0s 1ms/step - loss: 0.3742 - accuracy: 0.8663\n",
            "Epoch 28/50\n",
            "47/47 [==============================] - 0s 1ms/step - loss: 0.3921 - accuracy: 0.8507\n",
            "Epoch 29/50\n",
            "47/47 [==============================] - 0s 1ms/step - loss: 0.3228 - accuracy: 0.9020\n",
            "Epoch 30/50\n",
            "47/47 [==============================] - 0s 1ms/step - loss: 0.3052 - accuracy: 0.9020\n",
            "Epoch 31/50\n",
            "47/47 [==============================] - 0s 1ms/step - loss: 0.3827 - accuracy: 0.8952\n",
            "Epoch 32/50\n",
            "47/47 [==============================] - 0s 1ms/step - loss: 0.3707 - accuracy: 0.8685\n",
            "Epoch 33/50\n",
            "47/47 [==============================] - 0s 1ms/step - loss: 0.3680 - accuracy: 0.8853\n",
            "Epoch 34/50\n",
            "47/47 [==============================] - 0s 1ms/step - loss: 0.3477 - accuracy: 0.8753\n",
            "Epoch 35/50\n",
            "47/47 [==============================] - 0s 1ms/step - loss: 0.3502 - accuracy: 0.8731\n",
            "Epoch 36/50\n",
            "47/47 [==============================] - 0s 1ms/step - loss: 0.3926 - accuracy: 0.8597\n",
            "Epoch 37/50\n",
            "47/47 [==============================] - 0s 1ms/step - loss: 0.3825 - accuracy: 0.8659\n",
            "Epoch 38/50\n",
            "47/47 [==============================] - 0s 1ms/step - loss: 0.3795 - accuracy: 0.8502\n",
            "Epoch 39/50\n",
            "47/47 [==============================] - 0s 1ms/step - loss: 0.4204 - accuracy: 0.8418\n",
            "Epoch 40/50\n",
            "47/47 [==============================] - 0s 1ms/step - loss: 0.3815 - accuracy: 0.8544\n",
            "Epoch 41/50\n",
            "47/47 [==============================] - 0s 2ms/step - loss: 0.4020 - accuracy: 0.8733\n",
            "Epoch 42/50\n",
            "47/47 [==============================] - 0s 1ms/step - loss: 0.3595 - accuracy: 0.8954\n",
            "Epoch 43/50\n",
            "47/47 [==============================] - 0s 2ms/step - loss: 0.3071 - accuracy: 0.8897\n",
            "Epoch 44/50\n",
            "47/47 [==============================] - 0s 1ms/step - loss: 0.3081 - accuracy: 0.8920\n",
            "Epoch 45/50\n",
            "47/47 [==============================] - 0s 1ms/step - loss: 0.3354 - accuracy: 0.8759\n",
            "Epoch 46/50\n",
            "47/47 [==============================] - 0s 1ms/step - loss: 0.3722 - accuracy: 0.8784\n",
            "Epoch 47/50\n",
            "47/47 [==============================] - 0s 1ms/step - loss: 0.3128 - accuracy: 0.8930\n",
            "Epoch 48/50\n",
            "47/47 [==============================] - 0s 1ms/step - loss: 0.3287 - accuracy: 0.8815\n",
            "Epoch 49/50\n",
            "47/47 [==============================] - 0s 1ms/step - loss: 0.3648 - accuracy: 0.8561\n",
            "Epoch 50/50\n",
            "47/47 [==============================] - 0s 1ms/step - loss: 0.3102 - accuracy: 0.8946\n"
          ],
          "name": "stdout"
        },
        {
          "output_type": "execute_result",
          "data": {
            "text/plain": [
              "<tensorflow.python.keras.callbacks.History at 0x7f79ffacc4e0>"
            ]
          },
          "metadata": {
            "tags": []
          },
          "execution_count": 19
        }
      ]
    },
    {
      "cell_type": "markdown",
      "metadata": {
        "id": "5DsVNhnZg7n7"
      },
      "source": [
        "### 학습 결과\r\n",
        "\r\n",
        "정확도: 0,8946 오차 : 0.3"
      ]
    },
    {
      "cell_type": "markdown",
      "metadata": {
        "id": "8zF384zchDqp"
      },
      "source": [
        "# 결론 \r\n",
        ": 시그모이드 처럼 두가지로 분류문제의 손실합수는 평균제곱오차보단 이항굧 엔트로피가 더 정확도 높음"
      ]
    }
  ]
}