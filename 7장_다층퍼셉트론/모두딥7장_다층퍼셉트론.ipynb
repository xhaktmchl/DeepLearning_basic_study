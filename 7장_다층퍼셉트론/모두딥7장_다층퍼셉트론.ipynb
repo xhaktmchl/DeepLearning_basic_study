{
  "nbformat": 4,
  "nbformat_minor": 0,
  "metadata": {
    "colab": {
      "name": "모두딥7장 다층퍼셉트론.ipynb",
      "provenance": []
    },
    "kernelspec": {
      "name": "python3",
      "display_name": "Python 3"
    }
  },
  "cells": [
    {
      "cell_type": "code",
      "metadata": {
        "id": "ZTpuzXMswkJA"
      },
      "source": [
        "import numpy as np\r\n",
        "\r\n"
      ],
      "execution_count": null,
      "outputs": []
    },
    {
      "cell_type": "code",
      "metadata": {
        "colab": {
          "base_uri": "https://localhost:8080/"
        },
        "id": "-WseMqWxw_cY",
        "outputId": "b5b683a5-0447-4e6b-916c-2a3c3bdda871"
      },
      "source": [
        "# 가중치와 바이어스 넘파이로 표현\r\n",
        "# 가중치\r\n",
        "w11 = np.array([-2,-2])\r\n",
        "w12 = np.array([2,2])\r\n",
        "w2 = np.array([1,1])\r\n",
        "\r\n",
        "# 바이어스\r\n",
        "b1 = 3\r\n",
        "b2 = -1\r\n",
        "b3 = -1\r\n",
        "\r\n",
        "# 퍼셉트론 함수\r\n",
        "# 시그모이드 함수\r\n",
        "def MLP(x,w,b):\r\n",
        "  y = np.sum(x*w)+b\r\n",
        "  if y>0:\r\n",
        "    return 1\r\n",
        "    \r\n",
        "  else: \r\n",
        "    return 0\r\n",
        "\r\n",
        "# nand 게이트\r\n",
        "def Nand(x1,x2):\r\n",
        "  return MLP(np.array([x1,x2]),w11,b1)\r\n",
        "\r\n",
        "# or 게이트\r\n",
        "def Or(x1,x2):\r\n",
        "  return MLP(np.array([x1,x2]),w12,b2)\r\n",
        "\r\n",
        "# and 게이트\r\n",
        "def And(x1,x2):\r\n",
        "  return MLP(np.array([x1,x2]),w2,b3)\r\n",
        "\r\n",
        "# xor 게이트\r\n",
        "def Xor(x1,x2):\r\n",
        "  return And(Nand(x1,x2),Or(x1,x2))\r\n",
        "\r\n",
        "# 값 확인 \r\n",
        "# xor 게이트\r\n",
        "for i in [[0,0], [1,0],[0,1],[1,1]]:\r\n",
        "  y = Xor(i[0],i[1])\r\n",
        "  print(\"입력 값:\"+str(i)+\"출력 값: \"+str(y))\r\n",
        "\r\n",
        "\r\n"
      ],
      "execution_count": null,
      "outputs": [
        {
          "output_type": "stream",
          "text": [
            "입력 값:[0, 0]출력 값: 0\n",
            "입력 값:[1, 0]출력 값: 1\n",
            "입력 값:[0, 1]출력 값: 1\n",
            "입력 값:[1, 1]출력 값: 0\n"
          ],
          "name": "stdout"
        }
      ]
    },
    {
      "cell_type": "code",
      "metadata": {
        "id": "-n_Lfn5U0h3t"
      },
      "source": [
        ""
      ],
      "execution_count": null,
      "outputs": []
    }
  ]
}