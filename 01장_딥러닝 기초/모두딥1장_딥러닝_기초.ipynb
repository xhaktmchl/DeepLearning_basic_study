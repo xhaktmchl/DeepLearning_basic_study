{
  "nbformat": 4,
  "nbformat_minor": 0,
  "metadata": {
    "colab": {
      "name": "모두딥1장 딥러닝 기초.ipynb",
      "provenance": []
    },
    "kernelspec": {
      "name": "python3",
      "display_name": "Python 3"
    }
  },
  "cells": [
    {
      "cell_type": "code",
      "metadata": {
        "id": "93Dr5S9gINg9"
      },
      "source": [
        "import keras"
      ],
      "execution_count": null,
      "outputs": []
    },
    {
      "cell_type": "code",
      "metadata": {
        "id": "LGt-aVUXI1KW"
      },
      "source": [
        "import tensorflow as tf\r\n",
        "import numpy as np"
      ],
      "execution_count": null,
      "outputs": []
    },
    {
      "cell_type": "code",
      "metadata": {
        "colab": {
          "base_uri": "https://localhost:8080/"
        },
        "id": "zcOGlwUfI_Cg",
        "outputId": "0da9c9b2-6a07-4efd-c62c-e614587db73b"
      },
      "source": [
        "tf"
      ],
      "execution_count": null,
      "outputs": [
        {
          "output_type": "execute_result",
          "data": {
            "text/plain": [
              "<module 'tensorflow' from '/usr/local/lib/python3.6/dist-packages/tensorflow/__init__.py'>"
            ]
          },
          "metadata": {
            "tags": []
          },
          "execution_count": 4
        }
      ]
    },
    {
      "cell_type": "code",
      "metadata": {
        "id": "p7jXecFZJArq"
      },
      "source": [
        "from tensorflow.keras.models import Sequential\r\n",
        "from tensorflow.keras.layers import Dense\r\n"
      ],
      "execution_count": null,
      "outputs": []
    },
    {
      "cell_type": "markdown",
      "metadata": {
        "id": "iznYVsPYJZHO"
      },
      "source": [
        "###실행할 때마다 같은 결과 출력하기 위한 설정"
      ]
    },
    {
      "cell_type": "code",
      "metadata": {
        "id": "HC1Lx_e9JQQ6"
      },
      "source": [
        "np.random.seed(3)\r\n",
        "tf.random.set_seed(3)"
      ],
      "execution_count": null,
      "outputs": []
    },
    {
      "cell_type": "markdown",
      "metadata": {
        "id": "isd6OifzJtiM"
      },
      "source": [
        "### 수술환자 데이터 불러오기"
      ]
    },
    {
      "cell_type": "code",
      "metadata": {
        "colab": {
          "resources": {
            "http://localhost:8080/nbextensions/google.colab/files.js": {
              "data": "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",
              "ok": true,
              "headers": [
                [
                  "content-type",
                  "application/javascript"
                ]
              ],
              "status": 200,
              "status_text": ""
            }
          },
          "base_uri": "https://localhost:8080/",
          "height": 93
        },
        "id": "yIj3-zNNPx3S",
        "outputId": "ef74c2e9-e54d-476f-85f2-690fc432b62a"
      },
      "source": [
        "from google.colab import files\r\n",
        "file_uploaded = files.upload()\r\n"
      ],
      "execution_count": null,
      "outputs": [
        {
          "output_type": "display_data",
          "data": {
            "text/html": [
              "\n",
              "     <input type=\"file\" id=\"files-ff479012-b510-4af5-9f8a-91f473f2afb7\" name=\"files[]\" multiple disabled\n",
              "        style=\"border:none\" />\n",
              "     <output id=\"result-ff479012-b510-4af5-9f8a-91f473f2afb7\">\n",
              "      Upload widget is only available when the cell has been executed in the\n",
              "      current browser session. Please rerun this cell to enable.\n",
              "      </output>\n",
              "      <script src=\"/nbextensions/google.colab/files.js\"></script> "
            ],
            "text/plain": [
              "<IPython.core.display.HTML object>"
            ]
          },
          "metadata": {
            "tags": []
          }
        },
        {
          "output_type": "stream",
          "text": [
            "Saving ThoraricSurgery.csv to ThoraricSurgery (1).csv\n"
          ],
          "name": "stdout"
        }
      ]
    },
    {
      "cell_type": "code",
      "metadata": {
        "id": "0M0PAY2QJmrk"
      },
      "source": [
        "Data_set = np.loadtxt(\"./ThoraricSurgery.csv\",delimiter=\",\")"
      ],
      "execution_count": null,
      "outputs": []
    },
    {
      "cell_type": "code",
      "metadata": {
        "id": "6PVLMt65LTcQ",
        "colab": {
          "base_uri": "https://localhost:8080/"
        },
        "outputId": "c95ffe25-6023-41a4-e7f5-31d4763f7e01"
      },
      "source": [
        "Data_set"
      ],
      "execution_count": null,
      "outputs": [
        {
          "output_type": "execute_result",
          "data": {
            "text/plain": [
              "array([[293.  ,   1.  ,   3.8 , ...,   0.  ,  62.  ,   0.  ],\n",
              "       [  1.  ,   2.  ,   2.88, ...,   0.  ,  60.  ,   0.  ],\n",
              "       [  8.  ,   2.  ,   3.19, ...,   0.  ,  66.  ,   1.  ],\n",
              "       ...,\n",
              "       [406.  ,   6.  ,   5.36, ...,   0.  ,  62.  ,   0.  ],\n",
              "       [ 25.  ,   8.  ,   4.32, ...,   0.  ,  58.  ,   1.  ],\n",
              "       [447.  ,   8.  ,   5.2 , ...,   0.  ,  49.  ,   0.  ]])"
            ]
          },
          "metadata": {
            "tags": []
          },
          "execution_count": 14
        }
      ]
    },
    {
      "cell_type": "markdown",
      "metadata": {
        "id": "EeJwOY5WQmKY"
      },
      "source": [
        "### 환자의 기록과 수술 결과를 x와y 로 구분하여 저장"
      ]
    },
    {
      "cell_type": "code",
      "metadata": {
        "id": "O2gjsaUnQc2P"
      },
      "source": [
        "X = Data_set[:,0:17]\r\n",
        "Y = Data_set[:,17]"
      ],
      "execution_count": null,
      "outputs": []
    },
    {
      "cell_type": "markdown",
      "metadata": {
        "id": "qTIrVR4rRLmg"
      },
      "source": [
        "### 딥러닝 구조 결정,실행"
      ]
    },
    {
      "cell_type": "code",
      "metadata": {
        "id": "IEguT9N1RKST"
      },
      "source": [
        "model = Sequential()\r\n",
        "model.add(Dense(30,input_dim=17,activation='relu'))\r\n",
        "model.add(Dense(1,activation='sigmoid'))\r\n"
      ],
      "execution_count": null,
      "outputs": []
    },
    {
      "cell_type": "code",
      "metadata": {
        "colab": {
          "base_uri": "https://localhost:8080/"
        },
        "id": "dYbJB28hRuFB",
        "outputId": "03e5bbcb-e0a1-44ee-a7a7-ef8cc25d1749"
      },
      "source": [
        "# 모델의 오티마이저와 손실함수 정의\r\n",
        "model.compile(optimizer='adam',loss='binary_crossentropy',metrics=['accuracy'])\r\n",
        "# 모델 훈련\r\n",
        "model.fit(X,Y,epochs=100,batch_size=10)"
      ],
      "execution_count": null,
      "outputs": [
        {
          "output_type": "stream",
          "text": [
            "Epoch 1/100\n",
            "47/47 [==============================] - 1s 996us/step - loss: 0.6252 - accuracy: 0.7901\n",
            "Epoch 2/100\n",
            "47/47 [==============================] - 0s 933us/step - loss: 0.4237 - accuracy: 0.8689\n",
            "Epoch 3/100\n",
            "47/47 [==============================] - 0s 889us/step - loss: 0.4479 - accuracy: 0.8280\n",
            "Epoch 4/100\n",
            "47/47 [==============================] - 0s 907us/step - loss: 0.5070 - accuracy: 0.8376\n",
            "Epoch 5/100\n",
            "47/47 [==============================] - 0s 914us/step - loss: 0.4353 - accuracy: 0.8568\n",
            "Epoch 6/100\n",
            "47/47 [==============================] - 0s 946us/step - loss: 0.4205 - accuracy: 0.8516\n",
            "Epoch 7/100\n",
            "47/47 [==============================] - 0s 890us/step - loss: 0.4755 - accuracy: 0.8430\n",
            "Epoch 8/100\n",
            "47/47 [==============================] - 0s 909us/step - loss: 0.4515 - accuracy: 0.8495\n",
            "Epoch 9/100\n",
            "47/47 [==============================] - 0s 957us/step - loss: 0.3900 - accuracy: 0.8635\n",
            "Epoch 10/100\n",
            "47/47 [==============================] - 0s 1ms/step - loss: 0.3934 - accuracy: 0.8701\n",
            "Epoch 11/100\n",
            "47/47 [==============================] - 0s 955us/step - loss: 0.4455 - accuracy: 0.8482\n",
            "Epoch 12/100\n",
            "47/47 [==============================] - 0s 890us/step - loss: 0.4475 - accuracy: 0.8410\n",
            "Epoch 13/100\n",
            "47/47 [==============================] - 0s 883us/step - loss: 0.4701 - accuracy: 0.8214\n",
            "Epoch 14/100\n",
            "47/47 [==============================] - 0s 921us/step - loss: 0.4428 - accuracy: 0.8321\n",
            "Epoch 15/100\n",
            "47/47 [==============================] - 0s 1ms/step - loss: 0.4754 - accuracy: 0.8243\n",
            "Epoch 16/100\n",
            "47/47 [==============================] - 0s 933us/step - loss: 0.3903 - accuracy: 0.8622\n",
            "Epoch 17/100\n",
            "47/47 [==============================] - 0s 1ms/step - loss: 0.4298 - accuracy: 0.8565\n",
            "Epoch 18/100\n",
            "47/47 [==============================] - 0s 1ms/step - loss: 0.4886 - accuracy: 0.8570\n",
            "Epoch 19/100\n",
            "47/47 [==============================] - 0s 942us/step - loss: 0.4270 - accuracy: 0.8455\n",
            "Epoch 20/100\n",
            "47/47 [==============================] - 0s 885us/step - loss: 0.4300 - accuracy: 0.8615\n",
            "Epoch 21/100\n",
            "47/47 [==============================] - 0s 955us/step - loss: 0.4243 - accuracy: 0.8463\n",
            "Epoch 22/100\n",
            "47/47 [==============================] - 0s 885us/step - loss: 0.4179 - accuracy: 0.8572\n",
            "Epoch 23/100\n",
            "47/47 [==============================] - 0s 937us/step - loss: 0.4199 - accuracy: 0.8538\n",
            "Epoch 24/100\n",
            "47/47 [==============================] - 0s 982us/step - loss: 0.4298 - accuracy: 0.8402\n",
            "Epoch 25/100\n",
            "47/47 [==============================] - 0s 1ms/step - loss: 0.4325 - accuracy: 0.8393\n",
            "Epoch 26/100\n",
            "47/47 [==============================] - 0s 1ms/step - loss: 0.4487 - accuracy: 0.8545\n",
            "Epoch 27/100\n",
            "47/47 [==============================] - 0s 926us/step - loss: 0.4533 - accuracy: 0.8348\n",
            "Epoch 28/100\n",
            "47/47 [==============================] - 0s 1ms/step - loss: 0.4481 - accuracy: 0.8444\n",
            "Epoch 29/100\n",
            "47/47 [==============================] - 0s 961us/step - loss: 0.3676 - accuracy: 0.8733\n",
            "Epoch 30/100\n",
            "47/47 [==============================] - 0s 905us/step - loss: 0.3487 - accuracy: 0.8891\n",
            "Epoch 31/100\n",
            "47/47 [==============================] - 0s 948us/step - loss: 0.4052 - accuracy: 0.8814\n",
            "Epoch 32/100\n",
            "47/47 [==============================] - 0s 954us/step - loss: 0.4091 - accuracy: 0.8595\n",
            "Epoch 33/100\n",
            "47/47 [==============================] - 0s 964us/step - loss: 0.4277 - accuracy: 0.8576\n",
            "Epoch 34/100\n",
            "47/47 [==============================] - 0s 945us/step - loss: 0.3916 - accuracy: 0.8589\n",
            "Epoch 35/100\n",
            "47/47 [==============================] - 0s 1ms/step - loss: 0.4140 - accuracy: 0.8451\n",
            "Epoch 36/100\n",
            "47/47 [==============================] - 0s 966us/step - loss: 0.4550 - accuracy: 0.8381\n",
            "Epoch 37/100\n",
            "47/47 [==============================] - 0s 985us/step - loss: 0.4449 - accuracy: 0.8494\n",
            "Epoch 38/100\n",
            "47/47 [==============================] - 0s 981us/step - loss: 0.4275 - accuracy: 0.8455\n",
            "Epoch 39/100\n",
            "47/47 [==============================] - 0s 968us/step - loss: 0.4691 - accuracy: 0.8353\n",
            "Epoch 40/100\n",
            "47/47 [==============================] - 0s 946us/step - loss: 0.4280 - accuracy: 0.8499\n",
            "Epoch 41/100\n",
            "47/47 [==============================] - 0s 1ms/step - loss: 0.4339 - accuracy: 0.8569\n",
            "Epoch 42/100\n",
            "47/47 [==============================] - 0s 901us/step - loss: 0.4578 - accuracy: 0.8300\n",
            "Epoch 43/100\n",
            "47/47 [==============================] - 0s 948us/step - loss: 0.3570 - accuracy: 0.8697\n",
            "Epoch 44/100\n",
            "47/47 [==============================] - 0s 940us/step - loss: 0.3519 - accuracy: 0.8786\n",
            "Epoch 45/100\n",
            "47/47 [==============================] - 0s 1ms/step - loss: 0.3735 - accuracy: 0.8542\n",
            "Epoch 46/100\n",
            "47/47 [==============================] - 0s 932us/step - loss: 0.4090 - accuracy: 0.8445\n",
            "Epoch 47/100\n",
            "47/47 [==============================] - 0s 953us/step - loss: 0.3504 - accuracy: 0.8743\n",
            "Epoch 48/100\n",
            "47/47 [==============================] - 0s 909us/step - loss: 0.3933 - accuracy: 0.8644\n",
            "Epoch 49/100\n",
            "47/47 [==============================] - 0s 1ms/step - loss: 0.4119 - accuracy: 0.8360\n",
            "Epoch 50/100\n",
            "47/47 [==============================] - 0s 975us/step - loss: 0.3607 - accuracy: 0.8715\n",
            "Epoch 51/100\n",
            "47/47 [==============================] - 0s 961us/step - loss: 0.4292 - accuracy: 0.8451\n",
            "Epoch 52/100\n",
            "47/47 [==============================] - 0s 974us/step - loss: 0.4203 - accuracy: 0.8529\n",
            "Epoch 53/100\n",
            "47/47 [==============================] - 0s 896us/step - loss: 0.4172 - accuracy: 0.8481\n",
            "Epoch 54/100\n",
            "47/47 [==============================] - 0s 1ms/step - loss: 0.4218 - accuracy: 0.8416\n",
            "Epoch 55/100\n",
            "47/47 [==============================] - 0s 952us/step - loss: 0.4086 - accuracy: 0.8600\n",
            "Epoch 56/100\n",
            "47/47 [==============================] - 0s 955us/step - loss: 0.4015 - accuracy: 0.8472\n",
            "Epoch 57/100\n",
            "47/47 [==============================] - 0s 994us/step - loss: 0.4051 - accuracy: 0.8475\n",
            "Epoch 58/100\n",
            "47/47 [==============================] - 0s 940us/step - loss: 0.3549 - accuracy: 0.8761\n",
            "Epoch 59/100\n",
            "47/47 [==============================] - 0s 939us/step - loss: 0.4103 - accuracy: 0.8454\n",
            "Epoch 60/100\n",
            "47/47 [==============================] - 0s 978us/step - loss: 0.3571 - accuracy: 0.8724\n",
            "Epoch 61/100\n",
            "47/47 [==============================] - 0s 1000us/step - loss: 0.3925 - accuracy: 0.8712\n",
            "Epoch 62/100\n",
            "47/47 [==============================] - 0s 964us/step - loss: 0.4008 - accuracy: 0.8479\n",
            "Epoch 63/100\n",
            "47/47 [==============================] - 0s 1ms/step - loss: 0.3727 - accuracy: 0.8673\n",
            "Epoch 64/100\n",
            "47/47 [==============================] - 0s 1ms/step - loss: 0.4169 - accuracy: 0.8606\n",
            "Epoch 65/100\n",
            "47/47 [==============================] - 0s 915us/step - loss: 0.3763 - accuracy: 0.8629\n",
            "Epoch 66/100\n",
            "47/47 [==============================] - 0s 951us/step - loss: 0.4258 - accuracy: 0.8445\n",
            "Epoch 67/100\n",
            "47/47 [==============================] - 0s 923us/step - loss: 0.3721 - accuracy: 0.8614\n",
            "Epoch 68/100\n",
            "47/47 [==============================] - 0s 962us/step - loss: 0.4146 - accuracy: 0.8611\n",
            "Epoch 69/100\n",
            "47/47 [==============================] - 0s 896us/step - loss: 0.4378 - accuracy: 0.8172\n",
            "Epoch 70/100\n",
            "47/47 [==============================] - 0s 933us/step - loss: 0.4152 - accuracy: 0.8546\n",
            "Epoch 71/100\n",
            "47/47 [==============================] - 0s 919us/step - loss: 0.4325 - accuracy: 0.8258\n",
            "Epoch 72/100\n",
            "47/47 [==============================] - 0s 1ms/step - loss: 0.3923 - accuracy: 0.8502\n",
            "Epoch 73/100\n",
            "47/47 [==============================] - 0s 966us/step - loss: 0.4145 - accuracy: 0.8489\n",
            "Epoch 74/100\n",
            "47/47 [==============================] - 0s 1ms/step - loss: 0.3738 - accuracy: 0.8544\n",
            "Epoch 75/100\n",
            "47/47 [==============================] - 0s 1ms/step - loss: 0.3517 - accuracy: 0.8754\n",
            "Epoch 76/100\n",
            "47/47 [==============================] - 0s 964us/step - loss: 0.3771 - accuracy: 0.8591\n",
            "Epoch 77/100\n",
            "47/47 [==============================] - 0s 924us/step - loss: 0.4419 - accuracy: 0.8235\n",
            "Epoch 78/100\n",
            "47/47 [==============================] - 0s 940us/step - loss: 0.3947 - accuracy: 0.8699\n",
            "Epoch 79/100\n",
            "47/47 [==============================] - 0s 1ms/step - loss: 0.4099 - accuracy: 0.8370\n",
            "Epoch 80/100\n",
            "47/47 [==============================] - 0s 1ms/step - loss: 0.4253 - accuracy: 0.8313\n",
            "Epoch 81/100\n",
            "47/47 [==============================] - 0s 1ms/step - loss: 0.3732 - accuracy: 0.8735\n",
            "Epoch 82/100\n",
            "47/47 [==============================] - 0s 983us/step - loss: 0.4222 - accuracy: 0.8541\n",
            "Epoch 83/100\n",
            "47/47 [==============================] - 0s 1ms/step - loss: 0.4489 - accuracy: 0.8442\n",
            "Epoch 84/100\n",
            "47/47 [==============================] - 0s 944us/step - loss: 0.3446 - accuracy: 0.8944\n",
            "Epoch 85/100\n",
            "47/47 [==============================] - 0s 987us/step - loss: 0.3836 - accuracy: 0.8496\n",
            "Epoch 86/100\n",
            "47/47 [==============================] - 0s 959us/step - loss: 0.3394 - accuracy: 0.8710\n",
            "Epoch 87/100\n",
            "47/47 [==============================] - 0s 984us/step - loss: 0.3946 - accuracy: 0.8629\n",
            "Epoch 88/100\n",
            "47/47 [==============================] - 0s 1ms/step - loss: 0.3665 - accuracy: 0.8615\n",
            "Epoch 89/100\n",
            "47/47 [==============================] - 0s 1ms/step - loss: 0.3781 - accuracy: 0.8479\n",
            "Epoch 90/100\n",
            "47/47 [==============================] - 0s 930us/step - loss: 0.3728 - accuracy: 0.8740\n",
            "Epoch 91/100\n",
            "47/47 [==============================] - 0s 1ms/step - loss: 0.4207 - accuracy: 0.8487\n",
            "Epoch 92/100\n",
            "47/47 [==============================] - 0s 1ms/step - loss: 0.4221 - accuracy: 0.8495\n",
            "Epoch 93/100\n",
            "47/47 [==============================] - 0s 916us/step - loss: 0.4179 - accuracy: 0.8388\n",
            "Epoch 94/100\n",
            "47/47 [==============================] - 0s 947us/step - loss: 0.3994 - accuracy: 0.8558\n",
            "Epoch 95/100\n",
            "47/47 [==============================] - 0s 929us/step - loss: 0.4059 - accuracy: 0.8593\n",
            "Epoch 96/100\n",
            "47/47 [==============================] - 0s 904us/step - loss: 0.4317 - accuracy: 0.8513\n",
            "Epoch 97/100\n",
            "47/47 [==============================] - 0s 1ms/step - loss: 0.4597 - accuracy: 0.8254\n",
            "Epoch 98/100\n",
            "47/47 [==============================] - 0s 866us/step - loss: 0.3904 - accuracy: 0.8655\n",
            "Epoch 99/100\n",
            "47/47 [==============================] - 0s 1ms/step - loss: 0.3789 - accuracy: 0.8666\n",
            "Epoch 100/100\n",
            "47/47 [==============================] - 0s 943us/step - loss: 0.3910 - accuracy: 0.8443\n"
          ],
          "name": "stdout"
        },
        {
          "output_type": "execute_result",
          "data": {
            "text/plain": [
              "<tensorflow.python.keras.callbacks.History at 0x7f48c18d9630>"
            ]
          },
          "metadata": {
            "tags": []
          },
          "execution_count": 18
        }
      ]
    },
    {
      "cell_type": "code",
      "metadata": {
        "colab": {
          "base_uri": "https://localhost:8080/"
        },
        "id": "sc6D_KOOSrEQ",
        "outputId": "7b0a3608-195a-4521-89f0-98a4aaddc000"
      },
      "source": [
        "# 모델 평가\r\n",
        "model.evaluate"
      ],
      "execution_count": null,
      "outputs": [
        {
          "output_type": "execute_result",
          "data": {
            "text/plain": [
              "<bound method Model.evaluate of <tensorflow.python.keras.engine.sequential.Sequential object at 0x7f48c1a28320>>"
            ]
          },
          "metadata": {
            "tags": []
          },
          "execution_count": 19
        }
      ]
    }
  ]
}